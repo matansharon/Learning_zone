{
 "cells": [
  {
   "cell_type": "code",
   "execution_count": 2,
   "metadata": {},
   "outputs": [
    {
     "name": "stderr",
     "output_type": "stream",
     "text": [
      "[nltk_data] Error loading punkt: <urlopen error [SSL:\n",
      "[nltk_data]     CERTIFICATE_VERIFY_FAILED] certificate verify failed:\n",
      "[nltk_data]     unable to get local issuer certificate (_ssl.c:1007)>\n"
     ]
    },
    {
     "data": {
      "text/plain": [
       "False"
      ]
     },
     "execution_count": 2,
     "metadata": {},
     "output_type": "execute_result"
    }
   ],
   "source": [
    "import nltk\n",
    "from nltk import word_tokenize\n",
    "nltk.download('punkt')"
   ]
  },
  {
   "cell_type": "code",
   "execution_count": 3,
   "metadata": {},
   "outputs": [
    {
     "name": "stdout",
     "output_type": "stream",
     "text": [
      "15815\n"
     ]
    }
   ],
   "source": [
    "text=\"\"\n",
    "with open(\"transcript.txt\") as f:\n",
    "    text=f.read()\n",
    "    "
   ]
  },
  {
   "cell_type": "code",
   "execution_count": 6,
   "metadata": {},
   "outputs": [],
   "source": [
    "def get_anthropic_response(text):\n",
    "    import os\n",
    "    import anthropic\n",
    "    client=anthropic.Anthropic(\n",
    "        api_key=os.environ.get(\"ANTHROPIC_API_KEY\"))\n",
    "    message = client.messages.create(\n",
    "            model=\"claude-3-opus-20240229\",\n",
    "            # model='claude-3-haiku-20240307',\n",
    "            max_tokens=4000,\n",
    "            temperature=0.2,\n",
    "            system=f\"\"\"\n",
    "            the user input is a video transcript of a lecture.\n",
    "            summarize the transcript.\n",
    "            and then add a python code that demonstrate to concept of the lecture.\n",
    "            \"\"\",\n",
    "            messages=[\n",
    "                {\"role\": \"user\", \"content\":text}\n",
    "            ]\n",
    "        )\n",
    "    return message\n"
   ]
  },
  {
   "cell_type": "code",
   "execution_count": 7,
   "metadata": {},
   "outputs": [],
   "source": [
    "res=get_anthropic_response(text)"
   ]
  },
  {
   "cell_type": "code",
   "execution_count": 15,
   "metadata": {},
   "outputs": [],
   "source": [
    "output=(res.content[0].text)"
   ]
  },
  {
   "cell_type": "code",
   "execution_count": 16,
   "metadata": {},
   "outputs": [],
   "source": [
    "with open(\"output.txt\",\"w\") as f:\n",
    "    f.write(output)"
   ]
  }
 ],
 "metadata": {
  "kernelspec": {
   "display_name": ".venv",
   "language": "python",
   "name": "python3"
  },
  "language_info": {
   "codemirror_mode": {
    "name": "ipython",
    "version": 3
   },
   "file_extension": ".py",
   "mimetype": "text/x-python",
   "name": "python",
   "nbconvert_exporter": "python",
   "pygments_lexer": "ipython3",
   "version": "3.10.11"
  }
 },
 "nbformat": 4,
 "nbformat_minor": 2
}
