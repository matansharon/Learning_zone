{
 "cells": [
  {
   "cell_type": "code",
   "execution_count": 2,
   "metadata": {},
   "outputs": [
    {
     "name": "stderr",
     "output_type": "stream",
     "text": [
      "[nltk_data] Error loading punkt: <urlopen error [SSL:\n",
      "[nltk_data]     CERTIFICATE_VERIFY_FAILED] certificate verify failed:\n",
      "[nltk_data]     unable to get local issuer certificate (_ssl.c:1007)>\n"
     ]
    },
    {
     "data": {
      "text/plain": [
       "False"
      ]
     },
     "execution_count": 2,
     "metadata": {},
     "output_type": "execute_result"
    }
   ],
   "source": [
    "import nltk\n",
    "from nltk import word_tokenize\n",
    "nltk.download('punkt')"
   ]
  },
  {
   "cell_type": "code",
   "execution_count": 3,
   "metadata": {},
   "outputs": [
    {
     "name": "stdout",
     "output_type": "stream",
     "text": [
      "15815\n"
     ]
    }
   ],
   "source": [
    "text=\"\"\n",
    "with open(\"transcript.txt\") as f:\n",
    "    text=f.read()\n",
    "    print(len(word_tokenize(text)))"
   ]
  },
  {
   "cell_type": "code",
   "execution_count": 6,
   "metadata": {},
   "outputs": [],
   "source": [
    "def get_anthropic_response(text):\n",
    "    import os\n",
    "    import anthropic\n",
    "    client=anthropic.Anthropic(\n",
    "        api_key=os.environ.get(\"ANTHROPIC_API_KEY\"))\n",
    "    message = client.messages.create(\n",
    "            model=\"claude-3-opus-20240229\",\n",
    "            # model='claude-3-haiku-20240307',\n",
    "            max_tokens=4000,\n",
    "            temperature=0.2,\n",
    "            system=f\"\"\"\n",
    "            the user input is a video transcript of a lecture.\n",
    "            summarize the transcript.\n",
    "            and then add a python code that demonstrate to concept of the lecture.\n",
    "            \"\"\",\n",
    "            messages=[\n",
    "                {\"role\": \"user\", \"content\":text}\n",
    "            ]\n",
    "        )\n",
    "    return message\n"
   ]
  },
  {
   "cell_type": "code",
   "execution_count": 7,
   "metadata": {},
   "outputs": [],
   "source": [
    "res=get_anthropic_response(text)"
   ]
  },
  {
   "cell_type": "code",
   "execution_count": 13,
   "metadata": {},
   "outputs": [
    {
     "name": "stdout",
     "output_type": "stream",
     "text": [
      "Here is a summary of the key points from the lecture transcript:\n",
      "\n",
      "- CS229 is Stanford's machine learning course that has helped train many experts and leaders in the field. The goal is for students to become experts in machine learning after 10 weeks and be able to apply it effectively in industry or research.\n",
      "\n",
      "- Machine learning is advancing rapidly and being applied across many industries beyond just tech companies. There are huge opportunities to apply machine learning to transform fields like healthcare, transportation, etc. \n",
      "\n",
      "- The teaching team introduced themselves, including the professor Andrew Ng and the head TAs. There are 60 office hours per week to support the large class.\n",
      "\n",
      "- Key topics that will be covered include:\n",
      "1) Supervised learning - learning a mapping from input X to output Y given labeled training data \n",
      "2) Learning theory and machine learning strategy - how to effectively apply ML algorithms\n",
      "3) Deep learning - training neural networks \n",
      "4) Unsupervised learning - finding structure in unlabeled data, like clustering\n",
      "5) Reinforcement learning - learning by letting an agent take actions and receive rewards, used in robotics and game-playing AI\n",
      "\n",
      "- Logistical notes: Programming assignments shifting from MATLAB to Python. Take-home midterm exam instead of in-class. Class communication via Piazza.\n",
      "\n",
      "- Students are encouraged to form study groups, find project partners, and actively participate on Piazza to learn effectively in this challenging but rewarding class.\n",
      "\n",
      "Here is an example Python code demonstrating a simple supervised learning algorithm discussed - linear regression:\n",
      "\n",
      "import numpy as np\n",
      "from sklearn.linear_model import LinearRegression\n",
      "\n",
      "# Generate sample data\n",
      "X = np.array([[1000], [1200], [1400], [1500], [1600]])  # House sizes \n",
      "y = np.array([300000, 350000, 500000, 450000, 550000])  # House prices\n",
      "\n",
      "# Create and fit linear regression model\n",
      "model = LinearRegression()\n",
      "model.fit(X, y)\n",
      "\n",
      "# Predict price for new house\n",
      "new_house_size = np.array([[1250]])\n",
      "predicted_price = model.predict(new_house_size)\n",
      "\n",
      "print(f\"Predicted price for a {new_house_size[0][0]} sq ft house: ${predicted_price[0]:.2f}\")\n",
      "\n",
      "This code demonstrates training a linear regression model to predict house prices given the size. It generates sample training data, fits the model, and makes a prediction for a new house size. This is a basic example of supervised learning mapping from input features X to output labels y.\n"
     ]
    }
   ],
   "source": [
    "print(res.content[0].text)"
   ]
  }
 ],
 "metadata": {
  "kernelspec": {
   "display_name": ".venv",
   "language": "python",
   "name": "python3"
  },
  "language_info": {
   "codemirror_mode": {
    "name": "ipython",
    "version": 3
   },
   "file_extension": ".py",
   "mimetype": "text/x-python",
   "name": "python",
   "nbconvert_exporter": "python",
   "pygments_lexer": "ipython3",
   "version": "3.10.11"
  }
 },
 "nbformat": 4,
 "nbformat_minor": 2
}
