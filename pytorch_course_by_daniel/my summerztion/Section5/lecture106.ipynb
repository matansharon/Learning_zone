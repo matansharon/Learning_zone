{
 "cells": [
  {
   "cell_type": "markdown",
   "metadata": {},
   "source": [
    "# Preparing the Fashion MNIST Dataset for Modeling\n",
    "\n",
    "With 60,000 images of clothing items, our goal is to classify these into ten different classes using a computer vision model. A crucial consideration in building this model is whether to use pure linear lines or incorporate non-linearity. This decision can significantly impact the model's ability to accurately classify the diverse items of clothing in the dataset.\n",
    "\n",
    "## Data Preparation Steps\n",
    "\n",
    "Before diving into model building, it's essential to prepare our dataset for efficient processing:\n",
    "\n",
    "1. **Understanding Data Format**: Our data is initially in the form of a PyTorch dataset. This format includes the entire dataset but is not yet suitable for model training, which requires the data in mini-batches.\n",
    "\n",
    "2. **Conversion to DataLoader**: To make the dataset ready for training, we convert it from a PyTorch dataset to a DataLoader. This conversion process batches the data, making it a Python iterable, which is a more efficient format for model training.\n",
    "\n",
    "3. **Why Batch Data?**:\n",
    "    - **Computational Efficiency**: Handling the entire dataset at once can be demanding on memory and computational resources. By breaking the dataset into smaller batches, we can make the training process more manageable and efficient.\n",
    "    - **Frequent Gradient Updates**: Batching allows the model to update its gradients more frequently, improving the learning process. Instead of updating weights once per epoch (as would be the case with the entire dataset), the model updates its weights every few images, depending on the batch size chosen.\n",
    "\n",
    "## Practical Steps for Batching\n",
    "\n",
    "- **Batch Size**: A common starting point for batch size is 32, but this can vary based on the specific requirements of the dataset and the computational resources available.\n",
    "- **Shuffling**: It's a good practice to shuffle the data before batching. This ensures that the model does not learn any unintended patterns from the order of the data.\n",
    "\n",
    "## Implementing Data Batching\n",
    "\n",
    "In the next steps, we will use PyTorch's `DataLoader` from `torch.utils.data` to batch our dataset. The process involves specifying the dataset, batch size, and whether to shuffle the data:\n",
    "\n"
   ]
  },
  {
   "cell_type": "code",
   "execution_count": 2,
   "metadata": {},
   "outputs": [
    {
     "name": "stdout",
     "output_type": "stream",
     "text": [
      "Number of batches in train_data_loader: 1875\n",
      "Number of batches in test_data_loader: 313\n",
      "Batch images shape: torch.Size([32, 1, 28, 28])\n",
      "Batch labels shape: torch.Size([32])\n"
     ]
    }
   ],
   "source": [
    "# Import necessary libraries\n",
    "import torch\n",
    "from torchvision import datasets, transforms\n",
    "from torch.utils.data import DataLoader\n",
    "\n",
    "# Set transformation to convert images to PyTorch tensors\n",
    "transform = transforms.Compose([transforms.ToTensor()])\n",
    "\n",
    "# Load the Fashion MNIST dataset\n",
    "train_data = datasets.FashionMNIST(root='./data', train=True, download=True, transform=transform)\n",
    "test_data = datasets.FashionMNIST(root='./data', train=False, download=True, transform=transform)\n",
    "\n",
    "# Create DataLoaders for both training and testing datasets\n",
    "batch_size = 32  # Common batch size for training\n",
    "\n",
    "train_data_loader = DataLoader(train_data, batch_size=batch_size, shuffle=True)\n",
    "test_data_loader = DataLoader(test_data, batch_size=batch_size, shuffle=False)\n",
    "\n",
    "# Print out some information to verify DataLoader functionality\n",
    "print(f\"Number of batches in train_data_loader: {len(train_data_loader)}\")\n",
    "print(f\"Number of batches in test_data_loader: {len(test_data_loader)}\")\n",
    "\n",
    "# Example of iterating over the train_data_loader\n",
    "for images, labels in train_data_loader:\n",
    "    print(f\"Batch images shape: {images.shape}\")\n",
    "    print(f\"Batch labels shape: {labels.shape}\")\n",
    "    break  # Break after the first batch to keep the output concise\n",
    "\n",
    "\n"
   ]
  }
 ],
 "metadata": {
  "kernelspec": {
   "display_name": ".venv_pytorch",
   "language": "python",
   "name": "python3"
  },
  "language_info": {
   "codemirror_mode": {
    "name": "ipython",
    "version": 3
   },
   "file_extension": ".py",
   "mimetype": "text/x-python",
   "name": "python",
   "nbconvert_exporter": "python",
   "pygments_lexer": "ipython3",
   "version": "3.10.11"
  }
 },
 "nbformat": 4,
 "nbformat_minor": 2
}
