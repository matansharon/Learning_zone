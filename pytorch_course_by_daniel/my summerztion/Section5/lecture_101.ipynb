{
 "cells": [
  {
   "cell_type": "markdown",
   "metadata": {},
   "source": [
    "# Computer Vision Introduction\n",
    "\n",
    "## Overview\n",
    "- Computer vision problems involve interpreting visual data, similar to how humans perceive images.\n",
    "- Machine learning, especially using PyTorch, is a powerful tool for solving computer vision challenges.\n",
    "\n",
    "## Inputs and Outputs in Computer Vision\n",
    "- **Inputs**: Typically, images are represented as tensors with dimensions for height, width, and color channels (RGB).\n",
    "    - For example, a 24x24 image with 3 color channels would be represented numerically to capture the intensity of red, green, and blue at each pixel.\n",
    "- **Outputs**: The goal is often classification, where the model predicts the probability of the image belonging to certain classes (e.g., sushi, steak, pizza).\n",
    "    - The output is structured as a vector of prediction probabilities, one for each class.\n",
    "\n",
    "## Multi-classification Example\n",
    "- An app that identifies food in images demonstrates the application of computer vision in multi-classification.\n",
    "- The process involves numerically encoding images into tensors and using a machine learning model (e.g., CNN) to classify the images into predefined categories.\n",
    "\n",
    "## Convolutional Neural Networks (CNNs)\n",
    "- CNNs are the go-to model for image data, known for their ability to capture spatial hierarchies in images.\n",
    "- They work by applying filters to the input images to extract features, which are then used for classification or other tasks.\n",
    "- Recent research also highlights the effectiveness of transformer architectures in handling image data.\n",
    "\n",
    "## Practical Considerations\n",
    "- **Tensor Shapes**: Ensuring compatibility between input and output tensor shapes is crucial. Common dimensions include batch size, image height and width, and color channels.\n",
    "- **Model Training**: Improving model performance can involve showing more varied examples or adjusting the model architecture.\n",
    "\n",
    "## Conclusion\n",
    "- Computer vision encompasses a broad range of problems from classification to object detection and segmentation.\n",
    "- Successful application requires understanding both the theoretical underpinnings and practical aspects of machine learning models and data representation.\n"
   ]
  },
  {
   "cell_type": "code",
   "execution_count": 1,
   "metadata": {},
   "outputs": [
    {
     "name": "stdout",
     "output_type": "stream",
     "text": [
      "Downloading https://www.cs.toronto.edu/~kriz/cifar-10-python.tar.gz to ./data\\cifar-10-python.tar.gz\n"
     ]
    },
    {
     "name": "stderr",
     "output_type": "stream",
     "text": [
      "100.0%\n"
     ]
    },
    {
     "name": "stdout",
     "output_type": "stream",
     "text": [
      "Extracting ./data\\cifar-10-python.tar.gz to ./data\n",
      "Files already downloaded and verified\n",
      "Image tensor shape: torch.Size([4, 3, 32, 32])\n"
     ]
    }
   ],
   "source": [
    "import torch\n",
    "import torch.nn as nn\n",
    "import torch.nn.functional as F\n",
    "import torchvision.transforms as transforms\n",
    "from torchvision.datasets import CIFAR10\n",
    "from torch.utils.data import DataLoader\n",
    "\n",
    "# Define a simple CNN architecture\n",
    "class SimpleCNN(nn.Module):\n",
    "    def __init__(self):\n",
    "        super(SimpleCNN, self).__init__()\n",
    "        self.conv1 = nn.Conv2d(3, 6, 5)  # Input channels = 3 (RGB), Output channels = 6, Kernel size = 5\n",
    "        self.pool = nn.MaxPool2d(2, 2)   # Pooling over a 2x2 window\n",
    "        self.conv2 = nn.Conv2d(6, 16, 5) # Input channels = 6, Output channels = 16, Kernel size = 5\n",
    "        self.fc1 = nn.Linear(16 * 5 * 5, 120) # Fully connected layers\n",
    "        self.fc2 = nn.Linear(120, 84)\n",
    "        self.fc3 = nn.Linear(84, 10)    # Output layer for 10 classes\n",
    "\n",
    "    def forward(self, x):\n",
    "        x = self.pool(F.relu(self.conv1(x)))\n",
    "        x = self.pool(F.relu(self.conv2(x)))\n",
    "        x = x.view(-1, 16 * 5 * 5)      # Flatten the tensor for fully connected layer\n",
    "        x = F.relu(self.fc1(x))\n",
    "        x = F.relu(self.fc2(x))\n",
    "        x = self.fc3(x)                 # No activation here since we'll use CrossEntropyLoss, which includes softmax\n",
    "        return x\n",
    "\n",
    "# Initialize the CNN\n",
    "net = SimpleCNN()\n",
    "\n",
    "# Load and transform the CIFAR10 dataset\n",
    "transform = transforms.Compose([\n",
    "    transforms.ToTensor(), # Convert images to PyTorch tensors\n",
    "    transforms.Normalize((0.5, 0.5, 0.5), (0.5, 0.5, 0.5)) # Normalize the images\n",
    "])\n",
    "\n",
    "# Download the training and test sets\n",
    "trainset = CIFAR10(root='./data', train=True, download=True, transform=transform)\n",
    "testset = CIFAR10(root='./data', train=False, download=True, transform=transform)\n",
    "\n",
    "# Create data loaders\n",
    "trainloader = DataLoader(trainset, batch_size=4, shuffle=True)\n",
    "testloader = DataLoader(testset, batch_size=4, shuffle=False)\n",
    "\n",
    "# Example of accessing a single batch of images\n",
    "images, labels = next(iter(trainloader))\n",
    "print(f'Image tensor shape: {images.shape}') # Shape format: [batch_size, color_channels, height, width]\n",
    "\n",
    "# Simplified training loop (pseudo-code)\n",
    "# for epoch in range(num_epochs):\n",
    "#     for images, labels in trainloader:\n",
    "#         # Forward pass\n",
    "#         outputs = net(images)\n",
    "#         # Calculate loss\n",
    "#         loss = criterion(outputs, labels)\n",
    "#         # Backward pass and optimize\n",
    "#         optimizer.zero_grad()\n",
    "#         loss.backward()\n",
    "#         optimizer.step()\n",
    "\n",
    "# Note: This example is for demonstration purposes and omits parts like defining the loss function and optimizer,\n",
    "# and the actual training loop for brevity. It shows the model definition, dataset loading, and handling input and output shapes.\n"
   ]
  }
 ],
 "metadata": {
  "kernelspec": {
   "display_name": ".venv_pytorch",
   "language": "python",
   "name": "python3"
  },
  "language_info": {
   "codemirror_mode": {
    "name": "ipython",
    "version": 3
   },
   "file_extension": ".py",
   "mimetype": "text/x-python",
   "name": "python",
   "nbconvert_exporter": "python",
   "pygments_lexer": "ipython3",
   "version": "3.10.11"
  }
 },
 "nbformat": 4,
 "nbformat_minor": 2
}
