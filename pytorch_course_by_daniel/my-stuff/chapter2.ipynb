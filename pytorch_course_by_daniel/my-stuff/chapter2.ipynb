{
 "cells": [
  {
   "cell_type": "markdown",
   "metadata": {},
   "source": [
    "<h5 ><b><italic></italic>machine learning is turning thigs(data) into numbers, and finding patterns in those numbers</h5>"
   ]
  },
  {
   "cell_type": "code",
   "execution_count": 1,
   "metadata": {},
   "outputs": [
    {
     "name": "stdout",
     "output_type": "stream",
     "text": [
      "2.0.1\n",
      "False\n"
     ]
    }
   ],
   "source": [
    "import torch\n",
    "import math\n",
    "import numpy as np\n",
    "import pandas \n",
    "import matplotlib.pyplot as plt\n",
    "print(torch.__version__)\n",
    "print(torch.cuda.is_available())\n",
    "def num_of_elements(t):\n",
    "    if type(t)!=torch.Tensor:\n",
    "        print(f\"not a tensor. see the type {type(t)}\")\n",
    "        return\n",
    "    return len(torch.flatten(t))"
   ]
  },
  {
   "cell_type": "code",
   "execution_count": 19,
   "metadata": {},
   "outputs": [
    {
     "name": "stdout",
     "output_type": "stream",
     "text": [
      "tensor([[1, 2],\n",
      "        [2, 3]])\n",
      "2\n",
      "<built-in method item of Tensor object at 0x17f1536a0>\n"
     ]
    }
   ],
   "source": [
    "scaler=torch.tensor([[1,2],[2,3]])\n",
    "print(scaler)\n",
    "print(scaler.ndim)\n",
    "print(scaler.item)\n"
   ]
  },
  {
   "cell_type": "code",
   "execution_count": 20,
   "metadata": {},
   "outputs": [
    {
     "data": {
      "text/plain": [
       "tensor([[[1, 2],\n",
       "         [2, 1]]])"
      ]
     },
     "execution_count": 20,
     "metadata": {},
     "output_type": "execute_result"
    }
   ],
   "source": [
    "vector=torch.tensor([[[1,2],[2,1]]])\n",
    "vector"
   ]
  },
  {
   "cell_type": "code",
   "execution_count": null,
   "metadata": {},
   "outputs": [],
   "source": []
  },
  {
   "cell_type": "code",
   "execution_count": 21,
   "metadata": {},
   "outputs": [
    {
     "data": {
      "text/plain": [
       "tensor([[24., 60., 19.],\n",
       "        [72., 35.,  9.]])"
      ]
     },
     "execution_count": 21,
     "metadata": {},
     "output_type": "execute_result"
    }
   ],
   "source": [
    "def rand_arr(rows,cols):\n",
    "    res=[]\n",
    "    if rows:\n",
    "        for i in range(rows):\n",
    "            temp=[]\n",
    "            for j in range(cols):\n",
    "                temp.append(np.random.randint(0,100))\n",
    "            res.append(temp)\n",
    "        return res\n",
    "t=rand_arr(2,3)\n",
    "t1=torch.Tensor(t)\n",
    "t1"
   ]
  },
  {
   "cell_type": "code",
   "execution_count": 22,
   "metadata": {},
   "outputs": [
    {
     "data": {
      "text/plain": [
       "tensor([[[0.4280, 0.5172, 0.3999],\n",
       "         [0.6190, 0.4591, 0.7215],\n",
       "         [0.4798, 0.0522, 0.3829],\n",
       "         ...,\n",
       "         [0.0890, 0.6036, 0.3313],\n",
       "         [0.7193, 0.2600, 0.6857],\n",
       "         [0.2104, 0.9821, 0.2519]],\n",
       "\n",
       "        [[0.5268, 0.4899, 0.4493],\n",
       "         [0.8221, 0.5755, 0.1139],\n",
       "         [0.5598, 0.7955, 0.7806],\n",
       "         ...,\n",
       "         [0.3046, 0.8472, 0.6431],\n",
       "         [0.5935, 0.1386, 0.4226],\n",
       "         [0.7884, 0.4996, 0.6049]],\n",
       "\n",
       "        [[0.1228, 0.9128, 0.1091],\n",
       "         [0.1957, 0.9297, 0.0655],\n",
       "         [0.5345, 0.0035, 0.4794],\n",
       "         ...,\n",
       "         [0.8819, 0.6486, 0.0096],\n",
       "         [0.7419, 0.0014, 0.2439],\n",
       "         [0.8069, 0.1204, 0.6884]],\n",
       "\n",
       "        ...,\n",
       "\n",
       "        [[0.0868, 0.0709, 0.9433],\n",
       "         [0.0403, 0.4429, 0.1102],\n",
       "         [0.2234, 0.9296, 0.3387],\n",
       "         ...,\n",
       "         [0.7883, 0.4558, 0.9331],\n",
       "         [0.9458, 0.0394, 0.1119],\n",
       "         [0.7142, 0.6248, 0.3035]],\n",
       "\n",
       "        [[0.6099, 0.9344, 0.6423],\n",
       "         [0.7486, 0.7657, 0.0214],\n",
       "         [0.4799, 0.9083, 0.2823],\n",
       "         ...,\n",
       "         [0.4969, 0.9436, 0.8301],\n",
       "         [0.7156, 0.1796, 0.0692],\n",
       "         [0.4800, 0.6650, 0.3523]],\n",
       "\n",
       "        [[0.8501, 0.4806, 0.8629],\n",
       "         [0.0117, 0.7477, 0.4873],\n",
       "         [0.6925, 0.9311, 0.2580],\n",
       "         ...,\n",
       "         [0.6572, 0.9464, 0.8821],\n",
       "         [0.1175, 0.5690, 0.4227],\n",
       "         [0.8080, 0.9373, 0.6038]]])"
      ]
     },
     "execution_count": 22,
     "metadata": {},
     "output_type": "execute_result"
    }
   ],
   "source": [
    "#pytorch way\n",
    "t=torch.rand((3,3,3))\n",
    "#create a tensor with random values of integers\n",
    "t1=torch.randint(0,10,(3,3,3))\n",
    "t1\n",
    "img_temp=torch.rand((1080,1080,3))\n",
    "img_temp"
   ]
  },
  {
   "cell_type": "code",
   "execution_count": 23,
   "metadata": {},
   "outputs": [
    {
     "name": "stdout",
     "output_type": "stream",
     "text": [
      "tensor([[0., 0., 0.],\n",
      "        [0., 0., 0.]])\n",
      "tensor([[1., 1., 1.],\n",
      "        [1., 1., 1.]])\n"
     ]
    }
   ],
   "source": [
    "z=torch.zeros(2,3)\n",
    "print(z)\n",
    "o=torch.ones(2,3)\n",
    "print(o)"
   ]
  },
  {
   "cell_type": "code",
   "execution_count": 24,
   "metadata": {},
   "outputs": [
    {
     "data": {
      "text/plain": [
       "tensor([ 1., 23.,  9.])"
      ]
     },
     "execution_count": 24,
     "metadata": {},
     "output_type": "execute_result"
    }
   ],
   "source": [
    "#allow to use like this\n",
    "torch.tensor([1,int('23'),9.0], dtype=torch.float32, device='cpu', requires_grad=False)\n",
    "# and not like this\n",
    "# torch.tensor([1,'23',9.0])"
   ]
  },
  {
   "cell_type": "code",
   "execution_count": 25,
   "metadata": {},
   "outputs": [
    {
     "name": "stdout",
     "output_type": "stream",
     "text": [
      "tensor([[0.0677, 0.8132],\n",
      "        [0.2942, 0.9856],\n",
      "        [0.5541, 0.8044]]) \n",
      " torch.float32\n",
      "----------------------------------------------------------------------------------------------------\n",
      "tensor([[0.4453, 0.2632],\n",
      "        [0.0996, 0.4326],\n",
      "        [0.1191, 0.2910]], dtype=torch.float16) \n",
      " torch.float16\n",
      "----------------------------------------------------------------------------------------------------\n",
      "tensor([[0.0301, 0.2140],\n",
      "        [0.0293, 0.4264],\n",
      "        [0.0660, 0.2341]]) \n",
      " torch.float32\n",
      "----------------------------------------------------------------------------------------------------\n",
      "tensor([[7, 6],\n",
      "        [4, 5],\n",
      "        [4, 8]]) \n",
      " torch.int64\n"
     ]
    }
   ],
   "source": [
    "tensor32=torch.rand(3, 2,dtype=torch.float32)\n",
    "print(tensor32,'\\n',tensor32.dtype)\n",
    "print('-'*100)\n",
    "tensor16=torch.rand(3,2,dtype=torch.float16)\n",
    "print(tensor16,'\\n',tensor16.dtype)\n",
    "print('-'*100)\n",
    "mul_tensor=tensor32*tensor16\n",
    "print(mul_tensor,'\\n',mul_tensor.dtype)\n",
    "print('-'*100)\n",
    "int_tensor=torch.randint(0,10,(3,2))\n",
    "print(int_tensor,'\\n',int_tensor.dtype)"
   ]
  },
  {
   "cell_type": "code",
   "execution_count": 26,
   "metadata": {},
   "outputs": [
    {
     "name": "stdout",
     "output_type": "stream",
     "text": [
      "tensor([[3, 8, 5],\n",
      "        [4, 6, 2],\n",
      "        [3, 3, 7]])\n",
      "tensor([[ 9, 64, 25],\n",
      "        [16, 36,  4],\n",
      "        [ 9,  9, 49]])\n",
      "tensor([[3, 8, 5],\n",
      "        [4, 6, 2],\n",
      "        [3, 3, 7]])\n",
      "tensor([[65.1182, 70.3372, 90.6279],\n",
      "        [17.5383, 77.9241,  3.7910]])\n",
      "[[65 70 90]\n",
      " [17 77  3]]\n"
     ]
    }
   ],
   "source": [
    "\n",
    "print(t1[0])\n",
    "print(t1[0]*t1[0])\n",
    "print(t1[0])\n",
    "t3=torch.rand(2,3)*100\n",
    "print(t3)\n",
    "print(np.int8(t3))"
   ]
  },
  {
   "cell_type": "code",
   "execution_count": 27,
   "metadata": {},
   "outputs": [
    {
     "name": "stdout",
     "output_type": "stream",
     "text": [
      "106110600\n"
     ]
    }
   ],
   "source": [
    "a=100\n",
    "b=a+1\n",
    "c=b+1\n",
    "d=c+1\n",
    "t4=torch.rand(a,b,c,d)*100\n",
    "print(len(t4.flatten()))\n",
    "for i in range(1000):\n",
    "    t5=t4*t4\n",
    "#it took 27.7 sec to do 1000 like this\n"
   ]
  },
  {
   "cell_type": "code",
   "execution_count": 28,
   "metadata": {},
   "outputs": [],
   "source": [
    "for i in range(1000):\n",
    "    t5=torch.mul(t4,t4)"
   ]
  },
  {
   "cell_type": "markdown",
   "metadata": {},
   "source": [
    "1. it took 27.7 sec to do 1000 like this :t4*t4\n",
    "2. it took 26.9 sec to do 100 like torch.mul(t4,t4)\n",
    "3. conclusion : not  very big imporovment "
   ]
  },
  {
   "cell_type": "code",
   "execution_count": null,
   "metadata": {},
   "outputs": [],
   "source": []
  },
  {
   "cell_type": "code",
   "execution_count": 29,
   "metadata": {},
   "outputs": [
    {
     "name": "stdout",
     "output_type": "stream",
     "text": [
      "tensor([1, 2, 3, 4, 5, 6, 7, 8, 9])\n",
      "tensor([10, 11, 12, 13, 14, 15, 16, 17, 18])\n",
      "tensor([ 10,  22,  36,  52,  70,  90, 112, 136, 162])\n",
      "tensor([[ 10,  22,  36],\n",
      "        [ 52,  70,  90],\n",
      "        [112, 136, 162]])\n"
     ]
    }
   ],
   "source": [
    "a1=np.arange(1,10)\n",
    "a2=np.arange(10,19)\n",
    "t6=torch.tensor(a1)\n",
    "t7=torch.tensor(a2)\n",
    "t8=(torch.mul(t6,t7))\n",
    "print(f\"{t6}\\n{t7}\\n{t8}\")\n",
    "t9=t8.reshape(3,3)\n",
    "print(t9)\n"
   ]
  },
  {
   "cell_type": "code",
   "execution_count": 30,
   "metadata": {},
   "outputs": [
    {
     "name": "stdout",
     "output_type": "stream",
     "text": [
      "200\n",
      "tensor([[[0.9412, 0.9571, 0.7592, 0.9270, 0.7814, 0.3833, 0.5009, 0.6586,\n",
      "          0.5318, 0.5071, 0.1846, 0.7420, 0.7092, 0.5165, 0.0907, 0.2003,\n",
      "          0.5328, 0.6167, 0.1086, 0.6791, 0.2751, 0.5733, 0.9514, 0.3795,\n",
      "          0.7895],\n",
      "         [0.1998, 0.9101, 0.3234, 0.7946, 0.2880, 0.0629, 0.7018, 0.1722,\n",
      "          0.3077, 0.8703, 0.3470, 0.2711, 0.8048, 0.3124, 0.2646, 0.9181,\n",
      "          0.2741, 0.4932, 0.6740, 0.7740, 0.3788, 0.2637, 0.6498, 0.0419,\n",
      "          0.9643],\n",
      "         [0.9744, 0.7710, 0.6505, 0.5402, 0.6567, 0.4107, 0.4151, 0.7070,\n",
      "          0.0644, 0.3535, 0.4193, 0.0756, 0.5029, 0.1597, 0.8688, 0.8202,\n",
      "          0.2758, 0.0760, 0.0153, 0.5754, 0.3467, 0.1133, 0.8036, 0.6799,\n",
      "          0.6210],\n",
      "         [0.6270, 0.4311, 0.4099, 0.7110, 0.3218, 0.7725, 0.0048, 0.4325,\n",
      "          0.2865, 0.7483, 0.8119, 0.1750, 0.9349, 0.8726, 0.8893, 0.1395,\n",
      "          0.5932, 0.4111, 0.9411, 0.8289, 0.5099, 0.6629, 0.5652, 0.5626,\n",
      "          0.5344]],\n",
      "\n",
      "        [[0.3901, 0.1773, 0.9183, 0.2019, 0.9980, 0.6434, 0.4263, 0.1459,\n",
      "          0.5742, 0.4370, 0.5620, 0.1380, 0.2258, 0.7470, 0.4884, 0.3519,\n",
      "          0.1141, 0.9344, 0.7953, 0.4996, 0.9310, 0.0618, 0.9540, 0.0831,\n",
      "          0.0034],\n",
      "         [0.6778, 0.0751, 0.5408, 0.1167, 0.7677, 0.9944, 0.4333, 0.9553,\n",
      "          0.5593, 0.8827, 0.6385, 0.8903, 0.9952, 0.3872, 0.1505, 0.9282,\n",
      "          0.7874, 0.5413, 0.2361, 0.4921, 0.0488, 0.6273, 0.7062, 0.8153,\n",
      "          0.5937],\n",
      "         [0.9800, 0.1869, 0.3480, 0.8081, 0.4507, 0.4637, 0.0778, 0.2278,\n",
      "          0.1552, 0.1213, 0.5184, 0.2465, 0.5584, 0.0306, 0.4512, 0.5291,\n",
      "          0.6015, 0.9411, 0.2925, 0.4572, 0.3366, 0.8092, 0.6037, 0.0276,\n",
      "          0.7237],\n",
      "         [0.1685, 0.7450, 0.6906, 0.6187, 0.1984, 0.6187, 0.8046, 0.6731,\n",
      "          0.9690, 0.3212, 0.6666, 0.6959, 0.6411, 0.6226, 0.6037, 0.3030,\n",
      "          0.6407, 0.1567, 0.7828, 0.0168, 0.4300, 0.9354, 0.5359, 0.4884,\n",
      "          0.7174]]])\n"
     ]
    }
   ],
   "source": [
    "\n",
    "\n",
    "t10=torch.rand(1,8,25)\n",
    "print(num_of_elements(t10))\n",
    "t11=torch.rand(2,4,25)\n",
    "t12=t10.reshape_as(t11)\n",
    "print(t12)\n"
   ]
  },
  {
   "cell_type": "code",
   "execution_count": 31,
   "metadata": {},
   "outputs": [],
   "source": [
    "\n",
    "a=100\n",
    "b=a*10\n",
    "c=b*10\n",
    "d=c*10\n",
    "t13=torch.rand(c,d)\n",
    "t14=torch.rand(d,c)\n",
    "t15=torch.matmul(t13,t14)"
   ]
  },
  {
   "cell_type": "markdown",
   "metadata": {},
   "source": [
    "/var/folders/hh/bn85jql94k9dkgccvt0vbxf40000gn/T/ipykernel_2846/4259908433.py:2: UserWarning: To copy construct from a tensor, it is recommended to use sourceTensor.clone().detach() or sourceTensor.clone().detach().requires_grad_(True), rather than torch.tensor(sourceTensor).\n"
   ]
  },
  {
   "cell_type": "code",
   "execution_count": 32,
   "metadata": {},
   "outputs": [
    {
     "name": "stderr",
     "output_type": "stream",
     "text": [
      "/var/folders/hh/bn85jql94k9dkgccvt0vbxf40000gn/T/ipykernel_10327/4259908433.py:2: UserWarning: To copy construct from a tensor, it is recommended to use sourceTensor.clone().detach() or sourceTensor.clone().detach().requires_grad_(True), rather than torch.tensor(sourceTensor).\n",
      "  t16=torch.tensor(t15,dtype=torch.int32)\n"
     ]
    }
   ],
   "source": [
    "# t16=t15.clone.detach()\n",
    "t16=torch.tensor(t15,dtype=torch.int32)"
   ]
  },
  {
   "cell_type": "code",
   "execution_count": 10,
   "metadata": {},
   "outputs": [
    {
     "name": "stdout",
     "output_type": "stream",
     "text": [
      "tensor([[3, 4, 4],\n",
      "        [5, 8, 2]])\n",
      "tensor([[3, 5],\n",
      "        [4, 8],\n",
      "        [4, 2]])\n",
      "tensor([[41, 55],\n",
      "        [55, 93]])\n"
     ]
    }
   ],
   "source": [
    "np1=np.random.randint(1,10,(2,3))\n",
    "t17=torch.tensor(np1)\n",
    "# t17=t17.reshape([2,3,5])\n",
    "print(t17)\n",
    "print(t17.T)\n",
    "tr=torch.mm(t17,t17.T)\n",
    "print(tr)\n"
   ]
  },
  {
   "cell_type": "code",
   "execution_count": 34,
   "metadata": {},
   "outputs": [
    {
     "name": "stdout",
     "output_type": "stream",
     "text": [
      "tensor([[[59, 62, 96, 93],\n",
      "         [72, 78, 51, 19],\n",
      "         [31, 15, 88, 47]],\n",
      "\n",
      "        [[ 9,  8, 36, 54],\n",
      "         [55, 42, 51, 66],\n",
      "         [52, 13, 14, 12]]])\n",
      " min: 8\n",
      " max: 96\n",
      " mean: 46.78125\n",
      " meadian: 51\n"
     ]
    }
   ],
   "source": [
    "#aggregtion\n",
    "#1.min\n",
    "t18=torch.randint(1,100,(2,3,4))\n",
    "print(t18)\n",
    "print(f\" min: {t18.min()}\\n max: {t18.max()}\\n mean: {t18.mean(dtype=torch.float16)}\\n meadian: {t18.median()}\")"
   ]
  },
  {
   "cell_type": "code",
   "execution_count": 58,
   "metadata": {},
   "outputs": [
    {
     "name": "stdout",
     "output_type": "stream",
     "text": [
      "-3\n",
      "tensor([-1, 13, 28, 28, 46, 46, 98, 98])\n",
      "tensor([[[-1, 98],\n",
      "         [46, 28]],\n",
      "\n",
      "        [[13, 98],\n",
      "         [46, 28]]])\n",
      "-2\n",
      "tensor([-1, 13, 28, 28, 46, 46, 98, 98])\n",
      "tensor([[[-1, 98],\n",
      "         [13, 98]],\n",
      "\n",
      "        [[46, 28],\n",
      "         [46, 28]]])\n",
      "-1\n",
      "tensor([-1, 13, 28, 28, 46, 46, 98, 98])\n",
      "tensor([[[-1, 13],\n",
      "         [98, 98]],\n",
      "\n",
      "        [[46, 46],\n",
      "         [28, 28]]])\n",
      "0\n",
      "tensor([-1, 13, 28, 28, 46, 46, 98, 98])\n",
      "tensor([[[-1, 98],\n",
      "         [46, 28]],\n",
      "\n",
      "        [[13, 98],\n",
      "         [46, 28]]])\n",
      "1\n",
      "tensor([-1, 13, 28, 28, 46, 46, 98, 98])\n",
      "tensor([[[-1, 98],\n",
      "         [13, 98]],\n",
      "\n",
      "        [[46, 28],\n",
      "         [46, 28]]])\n",
      "2\n",
      "tensor([-1, 13, 28, 28, 46, 46, 98, 98])\n",
      "tensor([[[-1, 13],\n",
      "         [98, 98]],\n",
      "\n",
      "        [[46, 46],\n",
      "         [28, 28]]])\n"
     ]
    }
   ],
   "source": [
    "row=2\n",
    "col=2\n",
    "t20=torch.randint(0,100,(row,col))\n",
    "t21=t20.clone()\n",
    "# print(t20,'\\n',t21)\n",
    "t20[0,0]=-1\n",
    "# print(t20,'\\n',t21)\n",
    "# print(torch.flatten(t20))\n",
    "# print(torch.stack(t20,21),dim=0)\n",
    "for i in range(-10,10):\n",
    "    try:\n",
    "        t22=torch.stack((t20,t21),dim=i)\n",
    "        t23=torch.sort(torch.flatten(t22))\n",
    "        print(i)\n",
    "        print(t23.values)\n",
    "        print(t22)\n",
    "    except:\n",
    "        pass\n"
   ]
  },
  {
   "cell_type": "code",
   "execution_count": 92,
   "metadata": {},
   "outputs": [
    {
     "name": "stdout",
     "output_type": "stream",
     "text": [
      "tensor([[[[[92,  8, 59, 22]]],\n",
      "\n",
      "\n",
      "         [[[97, 90, 46, 73]]]],\n",
      "\n",
      "\n",
      "\n",
      "        [[[[70, 37, 50, 17]]],\n",
      "\n",
      "\n",
      "         [[[29, 62, 84, 17]]]],\n",
      "\n",
      "\n",
      "\n",
      "        [[[[84, 22, 52, 18]]],\n",
      "\n",
      "\n",
      "         [[[61, 35, 67, 18]]]]]) torch.Size([3, 2, 1, 1, 4])\n",
      "tensor([[[92,  8, 59, 22],\n",
      "         [97, 90, 46, 73]],\n",
      "\n",
      "        [[70, 37, 50, 17],\n",
      "         [29, 62, 84, 17]],\n",
      "\n",
      "        [[84, 22, 52, 18],\n",
      "         [61, 35, 67, 18]]]) torch.Size([3, 2, 4])\n"
     ]
    }
   ],
   "source": [
    "t24=torch.randint(1,100,(3,2,1,1,4))\n",
    "\n",
    "\n",
    "print(t24,t24.shape)\n",
    "t24_s=t24.squeeze()\n",
    "print(t24_s,t24_s.shape)\n"
   ]
  },
  {
   "cell_type": "code",
   "execution_count": 97,
   "metadata": {},
   "outputs": [
    {
     "name": "stdout",
     "output_type": "stream",
     "text": [
      "tensor([[[[92,  8, 59, 22],\n",
      "          [97, 90, 46, 73]],\n",
      "\n",
      "         [[70, 37, 50, 17],\n",
      "          [29, 62, 84, 17]],\n",
      "\n",
      "         [[84, 22, 52, 18],\n",
      "          [61, 35, 67, 18]]]]) torch.Size([1, 3, 2, 4])\n"
     ]
    }
   ],
   "source": [
    "t24_us=t24_s.unsqueeze(dim=0)\n",
    "print(t24_us,t24_us.shape)"
   ]
  },
  {
   "cell_type": "code",
   "execution_count": 120,
   "metadata": {},
   "outputs": [
    {
     "data": {
      "text/plain": [
       "(tensor([[[ 0,  1,  2],\n",
       "          [ 3,  4,  5],\n",
       "          [ 6,  7,  8]],\n",
       " \n",
       "         [[ 9, 10, 11],\n",
       "          [12, 13, 14],\n",
       "          [15, 16, 17]],\n",
       " \n",
       "         [[18, 19, 20],\n",
       "          [21, 22, 23],\n",
       "          [24, 25, 26]]]),\n",
       " tensor(0),\n",
       " torch.Tensor)"
      ]
     },
     "execution_count": 120,
     "metadata": {},
     "output_type": "execute_result"
    }
   ],
   "source": [
    "t25=torch.arange(0,27)\n",
    "t25a=t25.reshape([3,3,3])\n",
    "first=t25a[0,0,0]\n",
    "t25a,first,type(first)"
   ]
  },
  {
   "cell_type": "code",
   "execution_count": 140,
   "metadata": {},
   "outputs": [
    {
     "data": {
      "text/plain": [
       "(tensor([[[856., 510., 298.],\n",
       "          [ 81., 967., 239.],\n",
       "          [220., 972., 181.]],\n",
       " \n",
       "         [[129., 524., 266.],\n",
       "          [701., 372.,  42.],\n",
       "          [962., 682., 832.]]], dtype=torch.float16),\n",
       " torch.float16)"
      ]
     },
     "execution_count": 140,
     "metadata": {},
     "output_type": "execute_result"
    }
   ],
   "source": [
    "np26=np.random.randint(0,1000,[2,3,3])\n",
    "t26=torch.from_numpy(np26).type(torch.float16)\n",
    "t26,t26.dtype"
   ]
  },
  {
   "cell_type": "markdown",
   "metadata": {},
   "source": [
    "### test\n",
    "## test\n",
    "# test\n",
    "`sjdnjsn`\n"
   ]
  },
  {
   "cell_type": "code",
   "execution_count": 5,
   "metadata": {},
   "outputs": [
    {
     "name": "stdout",
     "output_type": "stream",
     "text": [
      "577071 tensor(0.5773)\n",
      "613980 tensor(0.6141)\n",
      "691228 tensor(0.6913)\n",
      "691285 tensor(0.6913)\n",
      "692049 tensor(0.6921)\n",
      "692056 tensor(0.6921)\n",
      "722057 tensor(0.7221)\n",
      "723060 tensor(0.7232)\n",
      "723573 tensor(0.7237)\n",
      "738473 tensor(0.7387)\n",
      "738474 tensor(0.7387)\n",
      "739934 tensor(0.7401)\n",
      "739998 tensor(0.7402)\n",
      "739999 tensor(0.7402)\n",
      "number of identical pairs: 14\n"
     ]
    }
   ],
   "source": [
    "l=1000000\n",
    "t27=torch.tensor(sorted(torch.rand(l)))\n",
    "t28=torch.tensor(sorted(torch.rand(l)))\n",
    "t29=(t27==t28)==True\n",
    "temp=(enumerate(t29))\n",
    "cnt=0\n",
    "for i,v in enumerate(t29):\n",
    "    \n",
    "    if v:\n",
    "        cnt+=1\n",
    "        print(i,t27[i])\n",
    "print(f\"number of identical pairs: {cnt}\")\n"
   ]
  },
  {
   "cell_type": "code",
   "execution_count": 28,
   "metadata": {},
   "outputs": [
    {
     "name": "stdout",
     "output_type": "stream",
     "text": [
      "tensor([[0.3679, 0.8661, 0.1737],\n",
      "        [0.7157, 0.8649, 0.4878]])\n",
      "tensor([[0.3679, 0.8661, 0.1737],\n",
      "        [0.7157, 0.8649, 0.4878]])\n"
     ]
    }
   ],
   "source": [
    "torch.manual_seed(40)\n",
    "t30=torch.rand(2,3)\n",
    "torch.manual_seed(40)\n",
    "t31=torch.rand(2,3)\n",
    "print(f\"{t30}\\n{t31}\")"
   ]
  }
 ],
 "metadata": {
  "kernelspec": {
   "display_name": "torch_env",
   "language": "python",
   "name": "python3"
  },
  "language_info": {
   "codemirror_mode": {
    "name": "ipython",
    "version": 3
   },
   "file_extension": ".py",
   "mimetype": "text/x-python",
   "name": "python",
   "nbconvert_exporter": "python",
   "pygments_lexer": "ipython3",
   "version": "3.10.12"
  },
  "orig_nbformat": 4
 },
 "nbformat": 4,
 "nbformat_minor": 2
}
