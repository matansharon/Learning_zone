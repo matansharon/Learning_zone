{
 "cells": [
  {
   "cell_type": "code",
   "execution_count": null,
   "metadata": {},
   "outputs": [],
   "source": [
    "#solve for x\n",
    "import sympy as sp\n",
    "x = sp.symbols('x')\n",
    "d1=135\n",
    "v1=60\n",
    "d2=216\n",
    "v2=x\n",
    "t=5.25\n",
    "eq = sp.Eq(d1/v1 + d2/v2, t)\n",
    "sol = sp.solve(eq, x)\n",
    "sol"
   ]
  },
  {
   "cell_type": "code",
   "execution_count": null,
   "metadata": {},
   "outputs": [],
   "source": [
    "#solve the following system of equations\n",
    "lf=50\n",
    "wf=22\n",
    "ls=40\n",
    "ws=12\n",
    "lb=50\n",
    "#the total area of is 3180 ft^2\n",
    "#lf*wf+ls*ws+lb*wb=3180\n",
    "#lf*wf=ls*ws\n",
    "#lb*wb=ls*ws\n",
    "#solve for wb\n",
    "wf,ws,wb=sp.symbols('wf ws wb')\n",
    "eq1=sp.Eq(lf*wf+ls*ws+lb*wb,3180)\n",
    "\n",
    "#solve onlt for eq1\n",
    "sol1=sp.solve(eq1,wb)\n",
    "sol1\n"
   ]
  },
  {
   "cell_type": "code",
   "execution_count": null,
   "metadata": {},
   "outputs": [],
   "source": [
    "3180=50*22+40*12+50*wb\n",
    "3180=1100+480+50*wb\n",
    "3180=1580+50*wb\n",
    "1600=50*wb\n",
    "wb=32"
   ]
  },
  {
   "cell_type": "code",
   "execution_count": 2,
   "metadata": {},
   "outputs": [
    {
     "data": {
      "text/latex": [
       "$\\displaystyle 2 x^{4} - 8 x^{3} - 30 x^{2} + 36 x$"
      ],
      "text/plain": [
       "2*x**4 - 8*x**3 - 30*x**2 + 36*x"
      ]
     },
     "execution_count": 2,
     "metadata": {},
     "output_type": "execute_result"
    }
   ],
   "source": [
    "#solve this :2x(x−1)(x+3)(x−6)\n",
    "import sympy as sp\n",
    "x=sp.symbols('x')\n",
    "eq2=2*x*(x-1)*(x+3)*(x-6)\n",
    "sol2=sp.expand(eq2)\n",
    "sol2"
   ]
  },
  {
   "cell_type": "code",
   "execution_count": 7,
   "metadata": {},
   "outputs": [
    {
     "data": {
      "text/latex": [
       "$\\displaystyle 2 r^{3} + 3 r^{2} - 29 r - 60$"
      ],
      "text/plain": [
       "2*r**3 + 3*r**2 - 29*r - 60"
      ]
     },
     "execution_count": 7,
     "metadata": {},
     "output_type": "execute_result"
    }
   ],
   "source": [
    "r=sp.symbols('r')\n",
    "#solve this: (r-4)(r+3)(2*r+5)\n",
    "eq3=(r-4)*(r+3)*(2*r+5)\n",
    "sol3=sp.expand(eq3)\n",
    "sol3"
   ]
  },
  {
   "cell_type": "code",
   "execution_count": 12,
   "metadata": {},
   "outputs": [
    {
     "data": {
      "text/plain": [
       "[-2 - sqrt(2)*I, -2 + sqrt(2)*I]"
      ]
     },
     "execution_count": 12,
     "metadata": {},
     "output_type": "execute_result"
    }
   ],
   "source": [
    "eq1=x**2+4*x+6\n",
    "eq2=x+3\n",
    "eq3=eq1/eq2\n",
    "sol4=sp.solve(eq3,x)\n",
    "sol4"
   ]
  },
  {
   "cell_type": "code",
   "execution_count": 1,
   "metadata": {},
   "outputs": [
    {
     "data": {
      "text/latex": [
       "$\\displaystyle 25$"
      ],
      "text/plain": [
       "25"
      ]
     },
     "execution_count": 1,
     "metadata": {},
     "output_type": "execute_result"
    }
   ],
   "source": [
    "import sympy as sp\n",
    "x=sp.symbols('x')\n",
    "eq1=x**3-2*x+4\n",
    "eq2=x-3\n",
    "#calculate the remainder\n",
    "sol5=sp.rem(eq1,eq2)\n",
    "sol5"
   ]
  },
  {
   "cell_type": "code",
   "execution_count": 2,
   "metadata": {},
   "outputs": [
    {
     "data": {
      "text/latex": [
       "$\\displaystyle \\frac{x^{2} + x + 8}{x - 1}$"
      ],
      "text/plain": [
       "(x**2 + x + 8)/(x - 1)"
      ]
     },
     "execution_count": 2,
     "metadata": {},
     "output_type": "execute_result"
    }
   ],
   "source": [
    "import sympy as sp\n",
    "x=sp.symbols('x')\n",
    "eq1=x**2+x+8\n",
    "eq2=x-1\n",
    "eq3=eq1/eq2\n",
    "#simplyfy the equation eq3\n",
    "sol6=sp.simplify(eq3)\n",
    "sol6"
   ]
  },
  {
   "cell_type": "code",
   "execution_count": 3,
   "metadata": {},
   "outputs": [
    {
     "data": {
      "text/latex": [
       "$\\displaystyle 3 x^{3} - x^{2} + 4 x - 2$"
      ],
      "text/plain": [
       "3*x**3 - x**2 + 4*x - 2"
      ]
     },
     "execution_count": 3,
     "metadata": {},
     "output_type": "execute_result"
    }
   ],
   "source": [
    "import sympy as sp\n",
    "x=sp.symbols('x')\n",
    "eq1=6*x**4-17*x**3+13*x**2-24*x+10\n",
    "eq2=2*x-5\n",
    "#find the quotient\n",
    "sol7=sp.quo(eq1,eq2)\n",
    "sol7"
   ]
  },
  {
   "cell_type": "code",
   "execution_count": null,
   "metadata": {},
   "outputs": [],
   "source": [
    "(2*x**3+12*x**2+15*x*y**2-9*y**3)/(x+3*y)"
   ]
  },
  {
   "cell_type": "code",
   "execution_count": 1,
   "metadata": {},
   "outputs": [
    {
     "data": {
      "text/latex": [
       "$\\displaystyle 6 x \\left(x - 2\\right) \\left(x - 1\\right)$"
      ],
      "text/plain": [
       "6*x*(x - 2)*(x - 1)"
      ]
     },
     "execution_count": 1,
     "metadata": {},
     "output_type": "execute_result"
    }
   ],
   "source": [
    "#what is the greatest common factor of 6x^3-18x^2+12x\n",
    "import sympy as sp\n",
    "x=sp.symbols('x')\n",
    "eq1=6*x**3-18*x**2+12*x\n",
    "sol8=sp.factor(eq1)\n",
    "sol8"
   ]
  },
  {
   "cell_type": "code",
   "execution_count": 1,
   "metadata": {},
   "outputs": [
    {
     "data": {
      "text/plain": [
       "[7/4 - sqrt(73)/4, 7/4 + sqrt(73)/4]"
      ]
     },
     "execution_count": 1,
     "metadata": {},
     "output_type": "execute_result"
    }
   ],
   "source": [
    "import sympy as sp\n",
    "x=sp.symbols('x')\n",
    "eq1=2*x**2-7*x-3\n",
    "sol9=sp.solve(eq1,x)\n",
    "sol9"
   ]
  },
  {
   "cell_type": "code",
   "execution_count": 2,
   "metadata": {},
   "outputs": [
    {
     "data": {
      "text/plain": [
       "[-5/3 - sqrt(10)/3, -5/3 + sqrt(10)/3]"
      ]
     },
     "execution_count": 2,
     "metadata": {},
     "output_type": "execute_result"
    }
   ],
   "source": [
    "import sympy as sp\n",
    "x=sp.symbols('x')\n",
    "eq1=3*x**2+10*x+5\n",
    "sol10=sp.solve(eq1,x)\n",
    "sol10"
   ]
  },
  {
   "cell_type": "code",
   "execution_count": 1,
   "metadata": {},
   "outputs": [
    {
     "data": {
      "text/plain": [
       "[-16, 2]"
      ]
     },
     "execution_count": 1,
     "metadata": {},
     "output_type": "execute_result"
    }
   ],
   "source": [
    "#solve this: x^2+14x-32\n",
    "import sympy as sp\n",
    "x=sp.symbols('x')\n",
    "eq1=x**2+14*x-32\n",
    "sol11=sp.solve(eq1,x)\n",
    "sol11"
   ]
  },
  {
   "cell_type": "code",
   "execution_count": 2,
   "metadata": {},
   "outputs": [
    {
     "data": {
      "image/png": "[encoded data removed]",
      "text/plain": [
       "<Figure size 640x480 with 1 Axes>"
      ]
     },
     "metadata": {},
     "output_type": "display_data"
    }
   ],
   "source": [
    "# Graph the linear inequality \n",
    "# −\n",
    "# x\n",
    "# −\n",
    "# y\n",
    "# >\n",
    "# x\n",
    "# −\n",
    "# 5\n",
    "# −x−y>x−5\n",
    "import matplotlib.pyplot as plt\n",
    "import numpy as np\n",
    "x = np.linspace(-10,10,400)\n",
    "y = np.linspace(-10,10,400)\n",
    "X,Y = np.meshgrid(x,y)\n",
    "F = X-Y\n",
    "plt.contour(X,Y,F,[0])\n",
    "plt.show()\n"
   ]
  },
  {
   "cell_type": "code",
   "execution_count": 6,
   "metadata": {},
   "outputs": [
    {
     "data": {
      "text/latex": [
       "$\\displaystyle \\frac{3 \\left(x - 1\\right)}{x^{2} + 2 x - 15}$"
      ],
      "text/plain": [
       "3*(x - 1)/(x**2 + 2*x - 15)"
      ]
     },
     "execution_count": 6,
     "metadata": {},
     "output_type": "execute_result"
    }
   ],
   "source": [
    "#Simplify the expression by combining the two fractions.\n",
    "\n",
    "\n",
    "\n",
    "# 3\n",
    "# x\n",
    "# +\n",
    "# 5\n",
    "# +\n",
    "# 6\n",
    "# x\n",
    "# 2\n",
    "# +\n",
    "# 2\n",
    "# x\n",
    "# −\n",
    "# 1\n",
    "# 5\n",
    "# x+5\n",
    "# 3\n",
    "# ​\n",
    "#  + \n",
    "# x \n",
    "# 2\n",
    "#  +2x−15\n",
    "# 6\n",
    "# ​\n",
    "  \n",
    "import sympy as sp\n",
    "x=sp.symbols('x')\n",
    "var1=3/(x+5)\n",
    "var=6/(x**2+2*x-15)\n",
    "eq1=var1+var\n",
    "sol12=sp.simplify(eq1)\n",
    "sol12"
   ]
  }
 ],
 "metadata": {
  "kernelspec": {
   "display_name": "cloudspace",
   "language": "python",
   "name": "python3"
  },
  "language_info": {
   "name": "python",
   "version": "3.10.10"
  }
 },
 "nbformat": 4,
 "nbformat_minor": 2
}
