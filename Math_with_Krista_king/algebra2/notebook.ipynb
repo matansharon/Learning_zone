{
 "cells": [
  {
   "cell_type": "code",
   "execution_count": 1,
   "metadata": {},
   "outputs": [
    {
     "data": {
      "text/latex": [
       "$\\displaystyle -4.90577890519606 + 3 \\sqrt{15}$"
      ],
      "text/plain": [
       "-4.90577890519606 + 3⋅√15"
      ]
     },
     "metadata": {},
     "output_type": "display_data"
    }
   ],
   "source": [
    "#simplify the expression 2*root(3/5) -5*root(5/3)+root(135)\n",
    "from sympy import *\n",
    "from sympy.abc import x\n",
    "init_printing()\n",
    "expr = 2*sqrt(3/5) - 5*sqrt(5/3) + sqrt(135)\n",
    "display(expr)"
   ]
  },
  {
   "cell_type": "code",
   "execution_count": 2,
   "metadata": {},
   "outputs": [
    {
     "data": {
      "text/latex": [
       "$\\displaystyle \\left[ 39.375\\right]$"
      ],
      "text/plain": [
       "[39.375]"
      ]
     },
     "execution_count": 2,
     "metadata": {},
     "output_type": "execute_result"
    }
   ],
   "source": [
    "import sympy as sp\n",
    "from sympy.abc import x\n",
    "from sympy import *\n",
    "eq=2*x/15-(21/4)\n",
    "sp.solve(eq,x)\n"
   ]
  },
  {
   "cell_type": "code",
   "execution_count": 4,
   "metadata": {},
   "outputs": [
    {
     "data": {
      "text/latex": [
       "$\\displaystyle -3 - 10 i$"
      ],
      "text/plain": [
       "-3 - 10⋅ⅈ"
      ]
     },
     "execution_count": 4,
     "metadata": {},
     "output_type": "execute_result"
    }
   ],
   "source": [
    "# Define the expression\n",
    "expr = 3*I*I - 2*I + 8*I**3\n",
    "\n",
    "# Simplify the expression\n",
    "simplified_expr = simplify(expr)\n",
    "simplified_expr"
   ]
  },
  {
   "cell_type": "code",
   "execution_count": 2,
   "metadata": {},
   "outputs": [
    {
     "data": {
      "text/latex": [
       "$\\displaystyle 4 I^{3} + 3 I - 7 i$"
      ],
      "text/plain": [
       "   3            \n",
       "4⋅I  + 3⋅I - 7⋅ⅈ"
      ]
     },
     "execution_count": 2,
     "metadata": {},
     "output_type": "execute_result"
    }
   ],
   "source": [
    "from sympy import *\n",
    "from sympy.abc import I\n",
    "init_printing()\n",
    "from sympy import sqrt as root\n",
    "exp=-root(-16)+4*I**3+3*I-root(-9)*root(9)+3*root(-4)\n",
    "\n",
    "simplified_expr = simplify(exp)\n",
    "simplified_expr"
   ]
  },
  {
   "cell_type": "code",
   "execution_count": 4,
   "metadata": {},
   "outputs": [
    {
     "data": {
      "text/latex": [
       "$\\displaystyle -6 + 417 i$"
      ],
      "text/plain": [
       "-6 + 417⋅ⅈ"
      ]
     },
     "execution_count": 4,
     "metadata": {},
     "output_type": "execute_result"
    }
   ],
   "source": [
    "exp=3*I**6+4*I**5-3*I**4-7*I**3+5*I*82-root(-16)\n",
    "simplified_expr = simplify(exp)\n",
    "\n",
    "simplified_expr"
   ]
  },
  {
   "cell_type": "code",
   "execution_count": 5,
   "metadata": {},
   "outputs": [
    {
     "data": {
      "text/latex": [
       "$\\displaystyle \\left( 8 a^{3} b^{6} - c^{3}, \\  \\left(2 a b^{2} - c\\right) \\left(4 a^{2} b^{4} + 2 a b^{2} c + c^{2}\\right)\\right)$"
      ],
      "text/plain": [
       "⎛   3  6    3  ⎛     2    ⎞ ⎛   2  4        2      2⎞⎞\n",
       "⎝8⋅a ⋅b  - c , ⎝2⋅a⋅b  - c⎠⋅⎝4⋅a ⋅b  + 2⋅a⋅b ⋅c + c ⎠⎠"
      ]
     },
     "execution_count": 5,
     "metadata": {},
     "output_type": "execute_result"
    }
   ],
   "source": [
    "from sympy import symbols, expand, factor\n",
    "\n",
    "# Define the symbols\n",
    "a, b, c = symbols('a b c')\n",
    "\n",
    "# Define the polynomial\n",
    "polynomial = (2*a*b**2 - c)*(4*a**2*b**4 + 2*a*b**2*c + c**2)\n",
    "\n",
    "# Expand the polynomial\n",
    "expanded_polynomial = expand(polynomial)\n",
    "\n",
    "# Factor the polynomial\n",
    "factored_polynomial = factor(expanded_polynomial)\n",
    "\n",
    "expanded_polynomial, factored_polynomial"
   ]
  },
  {
   "cell_type": "code",
   "execution_count": 6,
   "metadata": {},
   "outputs": [
    {
     "data": {
      "text/latex": [
       "$\\displaystyle \\left(- 4 m^{2} r^{3} + x\\right) \\left(16 m^{4} r^{6} + 4 m^{2} r^{3} x + x^{2}\\right)$"
      ],
      "text/plain": [
       "⎛     2  3    ⎞ ⎛    4  6      2  3      2⎞\n",
       "⎝- 4⋅m ⋅r  + x⎠⋅⎝16⋅m ⋅r  + 4⋅m ⋅r ⋅x + x ⎠"
      ]
     },
     "execution_count": 6,
     "metadata": {},
     "output_type": "execute_result"
    }
   ],
   "source": [
    "# Define the symbols\n",
    "x, m, r = symbols('x m r')\n",
    "\n",
    "# Define the expression\n",
    "expr = x**3 - 64*m**6*r**9\n",
    "\n",
    "# Factor the expression\n",
    "factored_expr = factor(expr)\n",
    "factored_expr"
   ]
  },
  {
   "cell_type": "code",
   "execution_count": 7,
   "metadata": {},
   "outputs": [
    {
     "data": {
      "text/latex": [
       "$\\displaystyle - \\left(5 x - 2 y z^{2}\\right) \\left(25 x^{2} + 10 x y z^{2} + 4 y^{2} z^{4}\\right)$"
      ],
      "text/plain": [
       " ⎛           2⎞ ⎛    2           2      2  4⎞\n",
       "-⎝5⋅x - 2⋅y⋅z ⎠⋅⎝25⋅x  + 10⋅x⋅y⋅z  + 4⋅y ⋅z ⎠"
      ]
     },
     "execution_count": 7,
     "metadata": {},
     "output_type": "execute_result"
    }
   ],
   "source": [
    "# Define the symbols\n",
    "y, z = symbols('y z')\n",
    "\n",
    "# Define the expression\n",
    "expr = 8*y**3*z**6 - 125*x**3\n",
    "\n",
    "# Factor the expression\n",
    "factored_expr = factor(expr)\n",
    "factored_expr"
   ]
  },
  {
   "cell_type": "code",
   "execution_count": 8,
   "metadata": {},
   "outputs": [
    {
     "data": {
      "text/latex": [
       "$\\displaystyle - 8 \\left(- 2 r v + 3 z^{3}\\right) \\left(4 r^{2} v^{2} + 6 r v z^{3} + 9 z^{6}\\right)$"
      ],
      "text/plain": [
       "   ⎛            3⎞ ⎛   2  2          3      6⎞\n",
       "-8⋅⎝-2⋅r⋅v + 3⋅z ⎠⋅⎝4⋅r ⋅v  + 6⋅r⋅v⋅z  + 9⋅z ⎠"
      ]
     },
     "execution_count": 8,
     "metadata": {},
     "output_type": "execute_result"
    }
   ],
   "source": [
    "# Define the symbols\n",
    "r, v, z = symbols('r v z')\n",
    "\n",
    "# Define the expression\n",
    "expr = 64*r**3*v**3 - 216*z**9\n",
    "\n",
    "# Factor the expression\n",
    "factored_expr = factor(expr)\n",
    "factored_expr"
   ]
  },
  {
   "cell_type": "code",
   "execution_count": 9,
   "metadata": {},
   "outputs": [
    {
     "data": {
      "text/latex": [
       "$\\displaystyle 8 \\left(r + 2 x^{3} y^{6}\\right) \\left(r^{2} - 2 r x^{3} y^{6} + 4 x^{6} y^{12}\\right)$"
      ],
      "text/plain": [
       "  ⎛       3  6⎞ ⎛ 2        3  6      6  12⎞\n",
       "8⋅⎝r + 2⋅x ⋅y ⎠⋅⎝r  - 2⋅r⋅x ⋅y  + 4⋅x ⋅y  ⎠"
      ]
     },
     "execution_count": 9,
     "metadata": {},
     "output_type": "execute_result"
    }
   ],
   "source": [
    "# Define the symbols\n",
    "x, y, r = symbols('x y r')\n",
    "\n",
    "# Define the expression\n",
    "expr = 64*x**9*y**18 + 8*r**3\n",
    "\n",
    "# Factor the expression\n",
    "factored_expr = factor(expr)\n",
    "factored_expr"
   ]
  },
  {
   "cell_type": "code",
   "execution_count": 10,
   "metadata": {},
   "outputs": [
    {
     "data": {
      "text/latex": [
       "$\\displaystyle \\left(3 j^{2} k^{3} + 5 r^{2} t\\right) \\left(9 j^{4} k^{6} - 15 j^{2} k^{3} r^{2} t + 25 r^{4} t^{2}\\right)$"
      ],
      "text/plain": [
       "⎛   2  3      2  ⎞ ⎛   4  6       2  3  2         4  2⎞\n",
       "⎝3⋅j ⋅k  + 5⋅r ⋅t⎠⋅⎝9⋅j ⋅k  - 15⋅j ⋅k ⋅r ⋅t + 25⋅r ⋅t ⎠"
      ]
     },
     "execution_count": 10,
     "metadata": {},
     "output_type": "execute_result"
    }
   ],
   "source": [
    "# Define the symbols\n",
    "j, k, r, t = symbols('j k r t')\n",
    "\n",
    "# Define the expression\n",
    "expr = 27*j**6*k**9 + 125*r**6*t**3\n",
    "\n",
    "# Factor the expression\n",
    "factored_expr = factor(expr)\n",
    "factored_expr"
   ]
  },
  {
   "cell_type": "code",
   "execution_count": 12,
   "metadata": {},
   "outputs": [
    {
     "data": {
      "text/latex": [
       "$\\displaystyle \\left(7 c p + x^{4} y^{3}\\right) \\left(49 c^{2} p^{2} - 7 c p x^{4} y^{3} + x^{8} y^{6}\\right)$"
      ],
      "text/plain": [
       "⎛         4  3⎞ ⎛    2  2          4  3    8  6⎞\n",
       "⎝7⋅c⋅p + x ⋅y ⎠⋅⎝49⋅c ⋅p  - 7⋅c⋅p⋅x ⋅y  + x ⋅y ⎠"
      ]
     },
     "execution_count": 12,
     "metadata": {},
     "output_type": "execute_result"
    }
   ],
   "source": [
    "# Define the symbols\n",
    "c, p = symbols('c p')\n",
    "\n",
    "# Define the expression\n",
    "expr =  343*c**3*p**3 +x**12*y**9\n",
    "\n",
    "# Factor the expression\n",
    "factored_expr = factor(expr)\n",
    "factored_expr"
   ]
  }
 ],
 "metadata": {
  "kernelspec": {
   "display_name": ".venv",
   "language": "python",
   "name": "python3"
  },
  "language_info": {
   "codemirror_mode": {
    "name": "ipython",
    "version": 3
   },
   "file_extension": ".py",
   "mimetype": "text/x-python",
   "name": "python",
   "nbconvert_exporter": "python",
   "pygments_lexer": "ipython3",
   "version": "3.10.11"
  }
 },
 "nbformat": 4,
 "nbformat_minor": 2
}
