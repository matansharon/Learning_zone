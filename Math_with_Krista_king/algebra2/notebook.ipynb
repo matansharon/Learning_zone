{
 "cells": [
  {
   "cell_type": "code",
   "execution_count": null,
   "metadata": {},
   "outputs": [],
   "source": [
    "#simplify the expression 2*root(3/5) -5*root(5/3)+root(135)\n",
    "from sympy import *\n",
    "from sympy.abc import x\n",
    "init_printing()\n",
    "expr = 2*sqrt(3/5) - 5*sqrt(5/3) + sqrt(135)"
   ]
  }
 ],
 "metadata": {
  "kernelspec": {
   "display_name": ".venv",
   "language": "python",
   "name": "python3"
  },
  "language_info": {
   "name": "python",
   "version": "3.10.11"
  }
 },
 "nbformat": 4,
 "nbformat_minor": 2
}
