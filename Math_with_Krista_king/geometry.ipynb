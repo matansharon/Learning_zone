{
 "cells": [
  {
   "cell_type": "code",
   "execution_count": 7,
   "metadata": {},
   "outputs": [
    {
     "name": "stdout",
     "output_type": "stream",
     "text": [
      "[18]\n",
      "110\n",
      "72.0\n",
      "198\n",
      "162\n"
     ]
    }
   ],
   "source": [
    "import sympy as sp\n",
    "x=sp.symbols('x')\n",
    "#solve this equation 10x-10+4x-2+6x+12=360 where the numbers are degrees\n",
    "eq=10*x-10+4*x-2+6*x+12-360\n",
    "sol=sp.solve(eq,x)\n",
    "print(sol)\n",
    "print(180-4*18+2)\n",
    "print(360/5)\n",
    "print(360-90-72)\n",
    "print(72+90)"
   ]
  },
  {
   "cell_type": "code",
   "execution_count": 2,
   "metadata": {},
   "outputs": [
    {
     "name": "stdout",
     "output_type": "stream",
     "text": [
      "[12]\n",
      "75\n"
     ]
    }
   ],
   "source": [
    "import sympy as sp\n",
    "x=sp.symbols('x')\n",
    "eq=360-125-82-(3*x+39)-(6*x+6)\n",
    "sol=sp.solve(eq,x)\n",
    "print(sol)\n",
    "z=3*12+39\n",
    "print(z)"
   ]
  },
  {
   "cell_type": "code",
   "execution_count": 10,
   "metadata": {},
   "outputs": [
    {
     "name": "stdout",
     "output_type": "stream",
     "text": [
      "[32]\n",
      "130\n"
     ]
    }
   ],
   "source": [
    "import sympy as sp\n",
    "x=sp.symbols('x')\n",
    "eq1=360-6*x-38-4*x-2\n",
    "sol1=sp.solve(eq1,x)\n",
    "print(sol1)\n",
    "h=4*32+2\n",
    "print(h)"
   ]
  },
  {
   "cell_type": "code",
   "execution_count": 1,
   "metadata": {},
   "outputs": [
    {
     "name": "stdout",
     "output_type": "stream",
     "text": [
      "[8 - sqrt(-x**2 - 12*x - 21), sqrt(-x**2 - 12*x - 21) + 8]\n"
     ]
    }
   ],
   "source": [
    "#solve this: the center of a circle is at (-6,8) and the radius is root(15) find the equation of the circle\n",
    "import sympy as sp\n",
    "x,y=sp.symbols('x y')\n",
    "eq=(x+6)**2+(y-8)**2-15\n",
    "\n"
   ]
  },
  {
   "cell_type": "code",
   "execution_count": 5,
   "metadata": {},
   "outputs": [
    {
     "name": "stdout",
     "output_type": "stream",
     "text": [
      "4.0*pi\n",
      "5.0*pi\n"
     ]
    },
    {
     "data": {
      "text/plain": [
       "[10]"
      ]
     },
     "execution_count": 5,
     "metadata": {},
     "output_type": "execute_result"
    }
   ],
   "source": [
    "import sympy as sp\n",
    "x=sp.symbols('x')\n",
    "#calculte the length of arc in a circle of radius 18 and angle 30 degrees\n",
    "arc=2*sp.pi*18*(40/360)\n",
    "print(arc)\n",
    "arc=2*sp.pi*6*(150/360)\n",
    "print(arc)\n",
    "#solve for this equation 5*sp.pi/6=x/360*2*sp.pi*15\n",
    "eq=5*sp.pi/6-2*sp.pi*x/360*15\n",
    "sol=sp.solve(eq,x)\n",
    "sol"
   ]
  },
  {
   "cell_type": "code",
   "execution_count": 7,
   "metadata": {},
   "outputs": [
    {
     "data": {
      "text/plain": [
       "[167/11]"
      ]
     },
     "execution_count": 7,
     "metadata": {},
     "output_type": "execute_result"
    }
   ],
   "source": [
    "#RP is a diameter of the circle (with center at OO), m∠ERP=(5x+6)m∠ERP=(5x+6) , and m∠RPE=(6x+7)m∠RPE=(6x+7) What is m∠ERP m∠ERP?\n",
    "import sympy as sp\n",
    "x=sp.symbols('x')\n",
    "eq=5*x+6+6*x+7-180\n",
    "sol=sp.solve(eq,x)\n",
    "sol"
   ]
  },
  {
   "cell_type": "markdown",
   "metadata": {},
   "source": [
    "To solve for \\( m∠ERP \\), we need to use the fact that the sum of the angles in a triangle is 180 degrees. Since \\( RP \\) is the diameter of the circle, \\( ∠ERP \\) and \\( ∠RPE \\) are angles in a semicircle, and thus their sum is 90 degrees.\n",
    "\n",
    "Given:\n",
    "\\[ m∠ERP = (5x + 6) \\]\n",
    "\\[ m∠RPE = (6x + 7) \\]\n",
    "\n",
    "Since \\( RP \\) is the diameter, \\( ∠ERP + ∠RPE = 90 \\) degrees.\n",
    "\n",
    "So, we can set up the equation:\n",
    "\\[ (5x + 6) + (6x + 7) = 90 \\]\n",
    "\n",
    "Now, solve for \\( x \\):\n",
    "\n",
    "1. Combine like terms:\n",
    "\\[ 11x + 13 = 90 \\]\n",
    "\n",
    "2. Subtract 13 from both sides:\n",
    "\\[ 11x = 77 \\]\n",
    "\n",
    "3. Divide by 11:\n",
    "\\[ x = 7 \\]\n",
    "\n",
    "Now, substitute \\( x \\) back into the expression for \\( m∠ERP \\):\n",
    "\\[ m∠ERP = 5x + 6 \\]\n",
    "\\[ m∠ERP = 5(7) + 6 \\]\n",
    "\\[ m∠ERP = 35 + 6 \\]\n",
    "\\[ m∠ERP = 41 \\]\n",
    "\n",
    "So, \\( m∠ERP \\) is 41 degrees."
   ]
  },
  {
   "cell_type": "code",
   "execution_count": 1,
   "metadata": {},
   "outputs": [
    {
     "name": "stdout",
     "output_type": "stream",
     "text": [
      "m∠ERP is 41.0 degrees\n"
     ]
    }
   ],
   "source": [
    "# Given expressions for the angles\n",
    "def calculate_angle():\n",
    "    # Given expressions\n",
    "    angle_ERP_expr = lambda x: 5 * x + 6\n",
    "    angle_RPE_expr = lambda x: 6 * x + 7\n",
    "\n",
    "    # Equation: (5x + 6) + (6x + 7) = 90\n",
    "    # Simplify to: 11x + 13 = 90\n",
    "    # Solve for x\n",
    "    total_angle = 90\n",
    "    constant_sum = 13\n",
    "    coefficient_sum = 11\n",
    "\n",
    "    x = (total_angle - constant_sum) / coefficient_sum\n",
    "\n",
    "    # Calculate m∠ERP\n",
    "    angle_ERP = angle_ERP_expr(x)\n",
    "    return angle_ERP\n",
    "\n",
    "# Calculate and print the result\n",
    "angle_ERP = calculate_angle()\n",
    "print(f\"m∠ERP is {angle_ERP} degrees\")"
   ]
  },
  {
   "cell_type": "code",
   "execution_count": 5,
   "metadata": {},
   "outputs": [
    {
     "data": {
      "text/plain": [
       "[15]"
      ]
     },
     "execution_count": 5,
     "metadata": {},
     "output_type": "execute_result"
    }
   ],
   "source": [
    "import sympy as sp\n",
    "r=sp.symbols('r')\n",
    "eq=(10+r)**2-20**2-r**2\n",
    "sol=sp.solve(eq,r)\n",
    "sol"
   ]
  },
  {
   "cell_type": "code",
   "execution_count": 4,
   "metadata": {},
   "outputs": [
    {
     "data": {
      "text/plain": [
       "[-5*sqrt(6), 5*sqrt(6)]"
      ]
     },
     "execution_count": 4,
     "metadata": {},
     "output_type": "execute_result"
    }
   ],
   "source": []
  }
 ],
 "metadata": {
  "language_info": {
   "name": "python"
  }
 },
 "nbformat": 4,
 "nbformat_minor": 2
}
