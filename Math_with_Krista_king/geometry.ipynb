{
 "cells": [
  {
   "cell_type": "code",
   "execution_count": 7,
   "metadata": {},
   "outputs": [
    {
     "name": "stdout",
     "output_type": "stream",
     "text": [
      "[18]\n",
      "110\n",
      "72.0\n",
      "198\n",
      "162\n"
     ]
    }
   ],
   "source": [
    "import sympy as sp\n",
    "x=sp.symbols('x')\n",
    "#solve this equation 10x-10+4x-2+6x+12=360 where the numbers are degrees\n",
    "eq=10*x-10+4*x-2+6*x+12-360\n",
    "sol=sp.solve(eq,x)\n",
    "print(sol)\n",
    "print(180-4*18+2)\n",
    "print(360/5)\n",
    "print(360-90-72)\n",
    "print(72+90)"
   ]
  },
  {
   "cell_type": "code",
   "execution_count": 2,
   "metadata": {},
   "outputs": [
    {
     "name": "stdout",
     "output_type": "stream",
     "text": [
      "[12]\n",
      "75\n"
     ]
    }
   ],
   "source": [
    "import sympy as sp\n",
    "x=sp.symbols('x')\n",
    "eq=360-125-82-(3*x+39)-(6*x+6)\n",
    "sol=sp.solve(eq,x)\n",
    "print(sol)\n",
    "z=3*12+39\n",
    "print(z)"
   ]
  },
  {
   "cell_type": "code",
   "execution_count": 10,
   "metadata": {},
   "outputs": [
    {
     "name": "stdout",
     "output_type": "stream",
     "text": [
      "[32]\n",
      "130\n"
     ]
    }
   ],
   "source": [
    "import sympy as sp\n",
    "x=sp.symbols('x')\n",
    "eq1=360-6*x-38-4*x-2\n",
    "sol1=sp.solve(eq1,x)\n",
    "print(sol1)\n",
    "h=4*32+2\n",
    "print(h)"
   ]
  },
  {
   "cell_type": "code",
   "execution_count": 1,
   "metadata": {},
   "outputs": [
    {
     "name": "stdout",
     "output_type": "stream",
     "text": [
      "[8 - sqrt(-x**2 - 12*x - 21), sqrt(-x**2 - 12*x - 21) + 8]\n"
     ]
    }
   ],
   "source": [
    "#solve this: the center of a circle is at (-6,8) and the radius is root(15) find the equation of the circle\n",
    "import sympy as sp\n",
    "x,y=sp.symbols('x y')\n",
    "eq=(x+6)**2+(y-8)**2-15\n",
    "\n"
   ]
  },
  {
   "cell_type": "code",
   "execution_count": 5,
   "metadata": {},
   "outputs": [
    {
     "name": "stdout",
     "output_type": "stream",
     "text": [
      "4.0*pi\n",
      "5.0*pi\n"
     ]
    },
    {
     "data": {
      "text/plain": [
       "[10]"
      ]
     },
     "execution_count": 5,
     "metadata": {},
     "output_type": "execute_result"
    }
   ],
   "source": [
    "import sympy as sp\n",
    "x=sp.symbols('x')\n",
    "#calculte the length of arc in a circle of radius 18 and angle 30 degrees\n",
    "arc=2*sp.pi*18*(40/360)\n",
    "print(arc)\n",
    "arc=2*sp.pi*6*(150/360)\n",
    "print(arc)\n",
    "#solve for this equation 5*sp.pi/6=x/360*2*sp.pi*15\n",
    "eq=5*sp.pi/6-2*sp.pi*x/360*15\n",
    "sol=sp.solve(eq,x)\n",
    "sol"
   ]
  },
  {
   "cell_type": "code",
   "execution_count": 7,
   "metadata": {},
   "outputs": [
    {
     "data": {
      "text/plain": [
       "[167/11]"
      ]
     },
     "execution_count": 7,
     "metadata": {},
     "output_type": "execute_result"
    }
   ],
   "source": [
    "#RP is a diameter of the circle (with center at OO), m∠ERP=(5x+6)m∠ERP=(5x+6) , and m∠RPE=(6x+7)m∠RPE=(6x+7) What is m∠ERP m∠ERP?\n",
    "import sympy as sp\n",
    "x=sp.symbols('x')\n",
    "eq=5*x+6+6*x+7-180\n",
    "sol=sp.solve(eq,x)\n",
    "sol"
   ]
  },
  {
   "cell_type": "markdown",
   "metadata": {},
   "source": [
    "To solve for \\( m∠ERP \\), we need to use the fact that the sum of the angles in a triangle is 180 degrees. Since \\( RP \\) is the diameter of the circle, \\( ∠ERP \\) and \\( ∠RPE \\) are angles in a semicircle, and thus their sum is 90 degrees.\n",
    "\n",
    "Given:\n",
    "\\[ m∠ERP = (5x + 6) \\]\n",
    "\\[ m∠RPE = (6x + 7) \\]\n",
    "\n",
    "Since \\( RP \\) is the diameter, \\( ∠ERP + ∠RPE = 90 \\) degrees.\n",
    "\n",
    "So, we can set up the equation:\n",
    "\\[ (5x + 6) + (6x + 7) = 90 \\]\n",
    "\n",
    "Now, solve for \\( x \\):\n",
    "\n",
    "1. Combine like terms:\n",
    "\\[ 11x + 13 = 90 \\]\n",
    "\n",
    "2. Subtract 13 from both sides:\n",
    "\\[ 11x = 77 \\]\n",
    "\n",
    "3. Divide by 11:\n",
    "\\[ x = 7 \\]\n",
    "\n",
    "Now, substitute \\( x \\) back into the expression for \\( m∠ERP \\):\n",
    "\\[ m∠ERP = 5x + 6 \\]\n",
    "\\[ m∠ERP = 5(7) + 6 \\]\n",
    "\\[ m∠ERP = 35 + 6 \\]\n",
    "\\[ m∠ERP = 41 \\]\n",
    "\n",
    "So, \\( m∠ERP \\) is 41 degrees."
   ]
  },
  {
   "cell_type": "code",
   "execution_count": 1,
   "metadata": {},
   "outputs": [
    {
     "name": "stdout",
     "output_type": "stream",
     "text": [
      "m∠ERP is 41.0 degrees\n"
     ]
    }
   ],
   "source": [
    "# Given expressions for the angles\n",
    "def calculate_angle():\n",
    "    # Given expressions\n",
    "    angle_ERP_expr = lambda x: 5 * x + 6\n",
    "    angle_RPE_expr = lambda x: 6 * x + 7\n",
    "\n",
    "    # Equation: (5x + 6) + (6x + 7) = 90\n",
    "    # Simplify to: 11x + 13 = 90\n",
    "    # Solve for x\n",
    "    total_angle = 90\n",
    "    constant_sum = 13\n",
    "    coefficient_sum = 11\n",
    "\n",
    "    x = (total_angle - constant_sum) / coefficient_sum\n",
    "\n",
    "    # Calculate m∠ERP\n",
    "    angle_ERP = angle_ERP_expr(x)\n",
    "    return angle_ERP\n",
    "\n",
    "# Calculate and print the result\n",
    "angle_ERP = calculate_angle()\n",
    "print(f\"m∠ERP is {angle_ERP} degrees\")"
   ]
  },
  {
   "cell_type": "code",
   "execution_count": 5,
   "metadata": {},
   "outputs": [
    {
     "data": {
      "text/plain": [
       "[15]"
      ]
     },
     "execution_count": 5,
     "metadata": {},
     "output_type": "execute_result"
    }
   ],
   "source": [
    "import sympy as sp\n",
    "r=sp.symbols('r')\n",
    "eq=(10+r)**2-20**2-r**2\n",
    "sol=sp.solve(eq,r)\n",
    "sol"
   ]
  },
  {
   "cell_type": "code",
   "execution_count": 8,
   "metadata": {},
   "outputs": [
    {
     "name": "stdout",
     "output_type": "stream",
     "text": [
      "The distance between the points (6, 5) and (9, 9) is 5.0\n"
     ]
    }
   ],
   "source": [
    "import math\n",
    "\n",
    "# Coordinates of the points\n",
    "x1, y1 = 13 ,6\n",
    "x2, y2 = 9, 9\n",
    "\n",
    "# Calculate the distance\n",
    "distance = math.sqrt((x2 - x1)**2 + (y2 - y1)**2)\n",
    "\n",
    "# Print the result\n",
    "print(f\"The distance between the points (6, 5) and (9, 9) is {distance}\")"
   ]
  },
  {
   "cell_type": "code",
   "execution_count": 9,
   "metadata": {},
   "outputs": [
    {
     "name": "stdout",
     "output_type": "stream",
     "text": [
      "The distance between the points (9, 9) and (13, 6) is 5.0\n"
     ]
    }
   ],
   "source": [
    "import math\n",
    "\n",
    "# Coordinates of the points\n",
    "x1, y1 = 9, 9\n",
    "x2, y2 = 13, 6\n",
    "\n",
    "# Calculate the distance\n",
    "distance = math.sqrt((x2 - x1)**2 + (y2 - y1)**2)\n",
    "\n",
    "# Print the result\n",
    "print(f\"The distance between the points (9, 9) and (13, 6) is {distance}\")"
   ]
  },
  {
   "cell_type": "code",
   "execution_count": 10,
   "metadata": {},
   "outputs": [
    {
     "data": {
      "text/plain": [
       "[-12, 5]"
      ]
     },
     "execution_count": 10,
     "metadata": {},
     "output_type": "execute_result"
    }
   ],
   "source": [
    "import sympy as sp\n",
    "x=sp.symbols('x')\n",
    "eq=x**2+7*x-60\n",
    "sol=sp.solve(eq,x)\n",
    "sol"
   ]
  },
  {
   "cell_type": "code",
   "execution_count": 11,
   "metadata": {},
   "outputs": [
    {
     "data": {
      "text/plain": [
       "[12]"
      ]
     },
     "execution_count": 11,
     "metadata": {},
     "output_type": "execute_result"
    }
   ],
   "source": [
    "import sympy as sp\n",
    "x=sp.symbols('x')\n",
    "eq=4*(4+x)-64\n",
    "sol=sp.solve(eq,x)\n",
    "sol"
   ]
  },
  {
   "cell_type": "code",
   "execution_count": 13,
   "metadata": {},
   "outputs": [
    {
     "data": {
      "text/latex": [
       "$\\displaystyle 4 \\sqrt{3}$"
      ],
      "text/plain": [
       "4*sqrt(3)"
      ]
     },
     "execution_count": 13,
     "metadata": {},
     "output_type": "execute_result"
    }
   ],
   "source": [
    "sp.sqrt(4*12)"
   ]
  },
  {
   "cell_type": "code",
   "execution_count": 14,
   "metadata": {},
   "outputs": [
    {
     "data": {
      "text/plain": [
       "[-7, 4]"
      ]
     },
     "execution_count": 14,
     "metadata": {},
     "output_type": "execute_result"
    }
   ],
   "source": [
    "import sympy as sp\n",
    "x=sp.symbols('x')\n",
    "eq=x**2+3*x-28\n",
    "sol=sp.solve(eq,x)\n",
    "sol"
   ]
  },
  {
   "cell_type": "code",
   "execution_count": 4,
   "metadata": {},
   "outputs": [
    {
     "name": "stdout",
     "output_type": "stream",
     "text": [
      "54.0\n"
     ]
    }
   ],
   "source": [
    "door=24*108\n",
    "print((door*3)/144)\n",
    "#the number above is the area of the rectangle in inches convert it to feet\n"
   ]
  },
  {
   "cell_type": "code",
   "execution_count": 5,
   "metadata": {},
   "outputs": [
    {
     "data": {
      "text/plain": [
       "[-2*sqrt(2), 2*sqrt(2)]"
      ]
     },
     "execution_count": 5,
     "metadata": {},
     "output_type": "execute_result"
    }
   ],
   "source": [
    "import sympy as sp\n",
    "x=sp.symbols('x')\n",
    "eq=x*3*x-24\n",
    "sol=sp.solve(eq,x)\n",
    "sol"
   ]
  },
  {
   "cell_type": "code",
   "execution_count": 1,
   "metadata": {},
   "outputs": [
    {
     "data": {
      "text/plain": [
       "[36.0000000000000]"
      ]
     },
     "execution_count": 1,
     "metadata": {},
     "output_type": "execute_result"
    }
   ],
   "source": [
    "#solve this 100=2x+0.5x+0.25x+1\n",
    "import sympy as sp\n",
    "x=sp.symbols('x')\n",
    "eq=2*x+0.5*x+0.25*x+1-100\n",
    "sol=sp.solve(eq,x)\n",
    "sol"
   ]
  },
  {
   "cell_type": "code",
   "execution_count": 1,
   "metadata": {},
   "outputs": [
    {
     "name": "stdout",
     "output_type": "stream",
     "text": [
      "The surface area of the rectangular prism is 144 square units\n"
     ]
    }
   ],
   "source": [
    "def surface_area_of_rectangular_prism(w, l, h):\n",
    "    # Calculate the surface area\n",
    "    surface_area = 2 * (w * l + l * h + h * w)\n",
    "    return surface_area\n",
    "\n",
    "# Given dimensions\n",
    "w = 4\n",
    "l = 4\n",
    "h = 7\n",
    "\n",
    "# Calculate the surface area\n",
    "surface_area = surface_area_of_rectangular_prism(w, l, h)\n",
    "print(f\"The surface area of the rectangular prism is {surface_area} square units\")"
   ]
  },
  {
   "cell_type": "code",
   "execution_count": 1,
   "metadata": {},
   "outputs": [
    {
     "name": "stdout",
     "output_type": "stream",
     "text": [
      "The surface area of the rectangular prism is 144 square units\n"
     ]
    }
   ],
   "source": [
    "def surface_area_of_rectangular_prism(w, l, h):\n",
    "    # Calculate the surface area\n",
    "    surface_area = 2 * (w * l + l * h + h * w)\n",
    "    return surface_area\n",
    "\n",
    "# Given dimensions\n",
    "w = 4\n",
    "l = 4\n",
    "h = 7\n",
    "\n",
    "# Calculate the surface area\n",
    "surface_area = surface_area_of_rectangular_prism(w, l, h)\n",
    "print(f\"The surface area of the rectangular prism is {surface_area} square units\")"
   ]
  },
  {
   "cell_type": "code",
   "execution_count": 2,
   "metadata": {},
   "outputs": [
    {
     "name": "stdout",
     "output_type": "stream",
     "text": [
      "The surface area of the square pyramid is 84.0 square meters\n"
     ]
    }
   ],
   "source": [
    "import math\n",
    "\n",
    "# Given dimensions\n",
    "s = 6  # side length of the base\n",
    "e = 5  # edge length of the pyramid\n",
    "\n",
    "# Calculate the slant height\n",
    "l = math.sqrt(e**2 - (s / 2)**2)\n",
    "\n",
    "# Calculate the base area\n",
    "base_area = s**2\n",
    "\n",
    "# Calculate the lateral surface area\n",
    "lateral_surface_area = 2 * s * l\n",
    "\n",
    "# Calculate the total surface area\n",
    "total_surface_area = base_area + lateral_surface_area\n",
    "\n",
    "print(f\"The surface area of the square pyramid is {total_surface_area} square meters\")"
   ]
  },
  {
   "cell_type": "code",
   "execution_count": 3,
   "metadata": {},
   "outputs": [
    {
     "name": "stdout",
     "output_type": "stream",
     "text": [
      "The surface area of the square pyramid is 84.0 square meters\n"
     ]
    }
   ],
   "source": [
    "import math\n",
    "\n",
    "# Given dimensions\n",
    "s = 6  # side length of the base in meters\n",
    "e = 5  # edge length of the pyramid in meters\n",
    "\n",
    "# Calculate the slant height\n",
    "l = math.sqrt(e**2 - (s / 2)**2)\n",
    "\n",
    "# Calculate the base area\n",
    "base_area = s**2\n",
    "\n",
    "# Calculate the lateral surface area\n",
    "lateral_surface_area = 2 * s * l\n",
    "\n",
    "# Calculate the total surface area\n",
    "total_surface_area = base_area + lateral_surface_area\n",
    "\n",
    "print(f\"The surface area of the square pyramid is {total_surface_area} square meters\")"
   ]
  },
  {
   "cell_type": "code",
   "execution_count": 8,
   "metadata": {},
   "outputs": [
    {
     "name": "stdout",
     "output_type": "stream",
     "text": [
      "1000*pi\n"
     ]
    }
   ],
   "source": [
    "import sympy as sp\n",
    "r=10\n",
    "h=10\n",
    "volume=sp.pi*r**2*h\n",
    "print(surface)"
   ]
  },
  {
   "cell_type": "code",
   "execution_count": 9,
   "metadata": {},
   "outputs": [
    {
     "name": "stdout",
     "output_type": "stream",
     "text": [
      "The total surface area of the cylindrical steel tank is 37699.11 square feet\n"
     ]
    }
   ],
   "source": [
    "import math\n",
    "\n",
    "# Given dimensions\n",
    "r = 60  # radius in feet\n",
    "h = 40  # height in feet\n",
    "\n",
    "# Calculate the total surface area\n",
    "total_surface_area = 2 * math.pi * r * (h + r)\n",
    "\n",
    "print(f\"The total surface area of the cylindrical steel tank is {total_surface_area:.2f} square feet\")"
   ]
  },
  {
   "cell_type": "code",
   "execution_count": 1,
   "metadata": {},
   "outputs": [
    {
     "name": "stdout",
     "output_type": "stream",
     "text": [
      "The surface area of the cone is 1206.37 square feet\n"
     ]
    }
   ],
   "source": [
    "#what is the surface area of a cone with radius 12 ft and height 16 ft\n",
    "import math\n",
    "\n",
    "# Given dimensions\n",
    "r = 12  # radius in feet\n",
    "h = 16  # height in feet\n",
    "\n",
    "# Calculate the slant height\n",
    "l = math.sqrt(r**2 + h**2)\n",
    "\n",
    "# Calculate the base area\n",
    "base_area = math.pi * r**2\n",
    "\n",
    "# Calculate the lateral surface area\n",
    "lateral_surface_area = math.pi * r * l\n",
    "\n",
    "# Calculate the total surface area\n",
    "total_surface_area = base_area + lateral_surface_area\n",
    "\n",
    "print(f\"The surface area of the cone is {total_surface_area:.2f} square feet\")"
   ]
  }
 ],
 "metadata": {
  "language_info": {
   "name": "python"
  }
 },
 "nbformat": 4,
 "nbformat_minor": 2
}
