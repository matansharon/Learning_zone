{
 "cells": [
  {
   "cell_type": "code",
   "execution_count": null,
   "metadata": {},
   "outputs": [],
   "source": [
    "x=[1,2,3,4,5,3,4]\n",
    "y=[2,4,6,8,10,5,9]\n",
    "#calculate the persnon correlation coefficient\n",
    "import numpy as np\n",
    "np.corrcoef(x,y)\n",
    "#output: array([[1.        , 0.99339927],\n",
    "#expain about the persnon correlation coefficient\n",
    "#The Pearson correlation coefficient measures the linear relationship between two datasets. Strictly speaking, Pearson's correlation requires that each dataset be normally distributed. Like other correlation coefficients, this one varies between -1 and +1 with 0 implying no correlation. Correlations of -1 or +1 imply an exact linear relationship. Positive correlations imply that as x increases, so does y. Negative correlations imply that as x increases, y decreases."
   ]
  }
 ],
 "metadata": {
  "language_info": {
   "name": "python"
  }
 },
 "nbformat": 4,
 "nbformat_minor": 2
}
