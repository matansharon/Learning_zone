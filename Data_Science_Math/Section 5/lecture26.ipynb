{
 "cells": [
  {
   "cell_type": "markdown",
   "metadata": {},
   "source": [
    "# Lecture Summary: Effects of Data Transformations\n",
    "\n",
    "This lecture explores how shifting and scaling transformations affect statistical measures of a dataset.\n",
    "\n",
    "## Shifting a Dataset\n",
    "\n",
    "- **Transformation**: Adding a constant \\(K\\) to every element.\n",
    "- **Impact on Measures**:\n",
    "  - **Mean, Median, Mode**: Increase by \\(K\\).\n",
    "  - **Range and Interquartile Range (IQR)**: Unchanged.\n",
    "  - **Standard Deviation**: Unchanged.\n",
    "\n",
    "## Scaling a Dataset\n",
    "\n",
    "- **Transformation**: Multiplying each element by a constant \\(k\\).\n",
    "- **Impact on Measures**:\n",
    "  - **Mean, Median, Mode**: Scale by \\(k\\).\n",
    "  - **Range and IQR**: Scale by \\(k\\).\n",
    "  - **Standard Deviation**: Scales by \\(k\\).\n",
    "\n",
    "These transformations demonstrate the linear properties of statistical measures under linear modifications, highlighting the distinct effects on location and dispersion measures.\n"
   ]
  },
  {
   "cell_type": "code",
   "execution_count": 1,
   "metadata": {},
   "outputs": [
    {
     "name": "stdout",
     "output_type": "stream",
     "text": [
      "Original Measures: {'Mean': 3.0, 'Median': 3.0, 'Mode': 'N/A', 'Range': 4, 'IQR': 2.0, 'Standard Deviation': 1.4142135623730951}\n",
      "Shifted Measures: {'Mean': 6.0, 'Median': 6.0, 'Mode': 'N/A', 'Range': 4, 'IQR': 2.0, 'Standard Deviation': 1.4142135623730951}\n",
      "Scaled Measures: {'Mean': 6.0, 'Median': 6.0, 'Mode': 'N/A', 'Range': 8, 'IQR': 4.0, 'Standard Deviation': 2.8284271247461903}\n"
     ]
    }
   ],
   "source": [
    "import numpy as np\n",
    "import matplotlib.pyplot as plt\n",
    "\n",
    "# Original dataset\n",
    "data = np.array([1, 2, 3, 4, 5])\n",
    "\n",
    "# Shifting dataset by adding K\n",
    "K = 3\n",
    "shifted_data = data + K\n",
    "\n",
    "# Scaling dataset by multiplying by k\n",
    "k = 2\n",
    "scaled_data = data * k\n",
    "\n",
    "# Function to calculate statistical measures\n",
    "def calculate_measures(dataset):\n",
    "    measures = {\n",
    "        'Mean': np.mean(dataset),\n",
    "        'Median': np.median(dataset),\n",
    "        'Mode': 'N/A',  # For simplicity, mode calculation is not included here\n",
    "        'Range': np.ptp(dataset),\n",
    "        'IQR': np.percentile(dataset, 75) - np.percentile(dataset, 25),\n",
    "        'Standard Deviation': np.std(dataset)\n",
    "    }\n",
    "    return measures\n",
    "\n",
    "# Calculate measures for original, shifted, and scaled datasets\n",
    "original_measures = calculate_measures(data)\n",
    "shifted_measures = calculate_measures(shifted_data)\n",
    "scaled_measures = calculate_measures(scaled_data)\n",
    "\n",
    "# Print the measures\n",
    "print(\"Original Measures:\", original_measures)\n",
    "print(\"Shifted Measures:\", shifted_measures)\n",
    "print(\"Scaled Measures:\", scaled_measures)\n"
   ]
  }
 ],
 "metadata": {
  "kernelspec": {
   "display_name": ".venv",
   "language": "python",
   "name": "python3"
  },
  "language_info": {
   "codemirror_mode": {
    "name": "ipython",
    "version": 3
   },
   "file_extension": ".py",
   "mimetype": "text/x-python",
   "name": "python",
   "nbconvert_exporter": "python",
   "pygments_lexer": "ipython3",
   "version": "3.10.11"
  }
 },
 "nbformat": 4,
 "nbformat_minor": 2
}
