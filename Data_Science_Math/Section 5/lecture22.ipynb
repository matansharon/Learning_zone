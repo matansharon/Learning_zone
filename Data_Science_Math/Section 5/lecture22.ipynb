{
 "cells": [
  {
   "cell_type": "markdown",
   "metadata": {},
   "source": [
    "# Probability: The Addition Rule\n",
    "\n",
    "When dealing with multiple events, the addition rule helps us understand the probability of either event A or event B occurring. This rule is fundamental in calculating probabilities for both mutually exclusive and overlapping events.\n",
    "\n",
    "## The Addition Rule Formula\n",
    "\n",
    "The probability of A or B (A union B) happening is defined as:\n",
    "\n",
    "\\[ P(A \\cup B) = P(A) + P(B) - P(A \\cap B) \\]\n",
    "\n",
    "- \\(P(A)\\) is the probability of event A occurring.\n",
    "- \\(P(B)\\) is the probability of event B occurring.\n",
    "- \\(P(A \\cap B)\\) is the probability of both A and B occurring (their intersection).\n",
    "\n",
    "### Mutually Exclusive Events\n",
    "\n",
    "Events A and B are mutually exclusive (or disjoint) if they cannot occur at the same time. For such events, \\(P(A \\cap B) = 0\\), simplifying our formula to:\n",
    "\n",
    "\\[ P(A \\cup B) = P(A) + P(B) \\]\n",
    "\n",
    "#### Example: Rolling a Die for a 1 or an Even Number\n",
    "\n",
    "- Rolling a 1 (Event A) and rolling an even number (Event B) are mutually exclusive when using a single six-sided die.\n",
    "- The probability of rolling a 1 or an even number is the sum of the individual probabilities since these events cannot happen simultaneously.\n",
    "\n",
    "### Overlapping Events\n",
    "\n",
    "Events A and B overlap if there's a scenario where both can occur simultaneously. In such cases, \\(P(A \\cap B)\\) is greater than 0, and we must account for this intersection to avoid double-counting.\n",
    "\n",
    "#### Example: Rolling a Die for a 1 or an Odd Number\n",
    "\n",
    "- Rolling a 1 (Event A) and rolling an odd number (Event B) are overlapping events because 1 is both a specific outcome and an odd number.\n",
    "- To calculate \\(P(A \\cup B)\\), subtract the intersection (the probability of rolling a 1, which is also an odd number) from the sum of \\(P(A)\\) and \\(P(B)\\).\n",
    "\n",
    "## Visualizing with Venn Diagrams\n",
    "\n",
    "Venn diagrams are invaluable for illustrating the relationship between events, especially for identifying overlaps (intersections) and exclusive parts of each event.\n",
    "\n",
    "- **Mutually Exclusive Events:** Two non-overlapping circles.\n",
    "- **Overlapping Events:** Two circles with a shared area representing \\(P(A \\cap B)\\).\n",
    "\n",
    "## Practical Application\n",
    "\n",
    "Consider rolling a six-sided die and calculating the probability of rolling a specific number or a set category (like odd or even numbers). The addition rule allows us to accurately compute these probabilities by considering both the individual chances and the overlap between events.\n",
    "\n",
    "### Example Calculations\n",
    "\n",
    "- For mutually exclusive events: Directly sum the probabilities.\n",
    "- For overlapping events: Sum the probabilities and subtract the overlap to correct for double-counting.\n",
    "\n",
    "This approach ensures accurate probability calculations for complex scenarios, highlighting the importance of understanding the nature of the events (whether they are mutually exclusive or overlapping) and the role of intersections in probability theory.\n"
   ]
  },
  {
   "cell_type": "code",
   "execution_count": 1,
   "metadata": {},
   "outputs": [
    {
     "name": "stdout",
     "output_type": "stream",
     "text": [
      "Probability of rolling a 1 or an even number: 0.67\n",
      "Probability of rolling a 1 or an odd number: 0.50\n"
     ]
    }
   ],
   "source": [
    "# Import necessary library\n",
    "import numpy as np\n",
    "\n",
    "# Function to simulate rolling a die\n",
    "def roll_die(num_rolls):\n",
    "    return np.random.randint(1, 7, size=num_rolls)\n",
    "\n",
    "# Example 1: Probability of rolling a 1 or an even number (Mutually Exclusive Events)\n",
    "num_rolls = 10000\n",
    "rolls = roll_die(num_rolls)\n",
    "\n",
    "# Calculate probabilities\n",
    "prob_1 = np.sum(rolls == 1) / num_rolls\n",
    "prob_even = np.sum(rolls % 2 == 0) / num_rolls\n",
    "# For mutually exclusive events, P(A and B) is 0\n",
    "prob_1_or_even = prob_1 + prob_even\n",
    "\n",
    "print(f\"Probability of rolling a 1 or an even number: {prob_1_or_even:.2f}\")\n",
    "\n",
    "# Example 2: Probability of rolling a 1 or an odd number (Overlapping Events)\n",
    "prob_1 = np.sum(rolls == 1) / num_rolls\n",
    "prob_odd = np.sum(rolls % 2 != 0) / num_rolls\n",
    "# Calculate overlap: Since 1 is odd, it's counted in both, so we need to adjust for it once\n",
    "prob_overlap = np.sum(rolls == 1) / num_rolls\n",
    "prob_1_or_odd = prob_1 + prob_odd - prob_overlap\n",
    "\n",
    "print(f\"Probability of rolling a 1 or an odd number: {prob_1_or_odd:.2f}\")\n",
    "print(\"test\")"
   ]
  },
  {
   "cell_type": "markdown",
   "metadata": {},
   "source": [
    "# How It Works:\n",
    "### Mutually Exclusive Events: \n",
    "- The probability of rolling a 1 or an even number is calculated by simply adding the probabilities of each event. Since these events cannot occur simultaneously (a roll cannot be both a 1 and even), there's no overlap to subtract.\n",
    "- Overlapping Events: The probability of rolling a 1 or an odd number involves calculating the probabilities of each event and then adjusting for the overlap (since 1 is also an odd number). The overlap is subtracted to prevent double-counting.\n",
    "- This code snippet provides a practical demonstration of the addition rule for probabilities, illustrating how to handle both mutually exclusive and overlapping events in a scenario involving dice rolls.\n",
    "\n",
    "\n",
    "\n",
    "\n",
    "\n",
    "\n"
   ]
  }
 ],
 "metadata": {
  "kernelspec": {
   "display_name": ".venv_pytorch",
   "language": "python",
   "name": "python3"
  },
  "language_info": {
   "codemirror_mode": {
    "name": "ipython",
    "version": 3
   },
   "file_extension": ".py",
   "mimetype": "text/x-python",
   "name": "python",
   "nbconvert_exporter": "python",
   "pygments_lexer": "ipython3",
   "version": "3.10.11"
  }
 },
 "nbformat": 4,
 "nbformat_minor": 2
}
