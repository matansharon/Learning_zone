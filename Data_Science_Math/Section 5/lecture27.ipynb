{
 "cells": [
  {
   "cell_type": "markdown",
   "metadata": {},
   "source": [
    "# Lecture Summary: Combining Random Variables\n",
    "\n",
    "This lecture introduces the concept of combining random variables, focusing on adding and subtracting them to analyze their total effect on measurements or processes. It illustrates this through an example involving the time taken by different company departments to approve time cards and for payroll to process them, considering these times as random variables \\(X\\) and \\(Y\\).\n",
    "\n",
    "## Key Points\n",
    "- **Independence and Units**: It's crucial for the random variables to be independent and have the same units.\n",
    "- **Mean, Variance, and Standard Deviation**: The lecture explains how to compute these for the sum or difference of two random variables.\n",
    "  - The **mean** of the sum or difference is the sum or difference of their means.\n",
    "  - The **variance** for the sum or difference is the sum of their variances, showing that data spread is not canceled out in the combination.\n",
    "- **Practical Application**: Demonstrates calculating new insights from combined random variables without recalculating from the base data.\n",
    "\n",
    "This approach simplifies analyzing combined random variables, offering a method to quickly derive new insights using existing summary statistics.\n"
   ]
  },
  {
   "cell_type": "code",
   "execution_count": 1,
   "metadata": {},
   "outputs": [
    {
     "name": "stdout",
     "output_type": "stream",
     "text": [
      "Combined Mean: 6.0 hours\n",
      "Combined Variance: 3.0\n",
      "Combined Standard Deviation: 1.7320508075688772 hours\n"
     ]
    }
   ],
   "source": [
    "# Python Code Cell Example\n",
    "import numpy as np\n",
    "\n",
    "# Example data for random variables X (time for department approval) and Y (time for payroll processing)\n",
    "X = np.array([1, 2, 2, 3]) # Hours\n",
    "Y = np.array([2, 3, 5, 6]) # Hours\n",
    "\n",
    "# Calculate means, variances, and standard deviations\n",
    "mean_X, mean_Y = np.mean(X), np.mean(Y)\n",
    "variance_X, variance_Y = np.var(X, ddof=0), np.var(Y, ddof=0)\n",
    "std_dev_X, std_dev_Y = np.sqrt(variance_X), np.sqrt(variance_Y)\n",
    "\n",
    "# Calculate combined statistics for the sum\n",
    "combined_mean = mean_X + mean_Y\n",
    "combined_variance = variance_X + variance_Y\n",
    "combined_std_dev = np.sqrt(combined_variance)\n",
    "\n",
    "print(f\"Combined Mean: {combined_mean} hours\")\n",
    "print(f\"Combined Variance: {combined_variance}\")\n",
    "print(f\"Combined Standard Deviation: {combined_std_dev} hours\")\n"
   ]
  }
 ],
 "metadata": {
  "kernelspec": {
   "display_name": ".venv",
   "language": "python",
   "name": "python3"
  },
  "language_info": {
   "codemirror_mode": {
    "name": "ipython",
    "version": 3
   },
   "file_extension": ".py",
   "mimetype": "text/x-python",
   "name": "python",
   "nbconvert_exporter": "python",
   "pygments_lexer": "ipython3",
   "version": "3.10.11"
  }
 },
 "nbformat": 4,
 "nbformat_minor": 2
}
