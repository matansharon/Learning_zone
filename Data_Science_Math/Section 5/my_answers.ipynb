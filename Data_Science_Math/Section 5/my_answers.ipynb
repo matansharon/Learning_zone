{
 "cells": [
  {
   "cell_type": "code",
   "execution_count": 2,
   "metadata": {},
   "outputs": [],
   "source": [
    "#read the pdf file and extract the text\n",
    "import PyPDF2\n",
    "import os\n",
    "import re\n",
    "import csv\n",
    "import pandas as pd\n",
    "import numpy as np\n",
    "import matplotlib.pyplot as plt\n",
    "\n",
    "#read the pdf file\n",
    "def read_pdf(file):\n",
    "    pdf_file = open(file, 'rb')\n",
    "    pdf_reader = PyPDF2.PdfReader(pdf_file)\n",
    "    num_pages = len(pdf_reader.pages)\n",
    "    text = ''\n",
    "    for i in range(num_pages):\n",
    "        text += pdf_reader.pages[i].extract_text()\n",
    "    return text\n",
    "file ='/Users/matansharon/python/Data_science/Data_Science_Math/Section 5/04-Probability-Practice-Questions.pdf'\n",
    "file= read_pdf(file)\n",
    "#save the file as a text file\n",
    "with open('probability.txt', 'w') as f:\n",
    "    f.write(file)\n",
    "    "
   ]
  },
  {
   "cell_type": "code",
   "execution_count": null,
   "metadata": {},
   "outputs": [],
   "source": [
    "# 1. Question | Given 100 coin tosses. 40 show head and 60 tail. Can you state that P(head) = 0.4?\n",
    "#no\n"
   ]
  },
  {
   "cell_type": "markdown",
   "metadata": {},
   "source": [
    "<!-- 2. Question | How often would you need to throw the coin to be certain that\n",
    "P(head)=0.4? How often if you just want to be \\very sure\"? What is the\n",
    "underlying rule? -->\n"
   ]
  },
  {
   "cell_type": "markdown",
   "metadata": {},
   "source": [
    "\n"
   ]
  },
  {
   "cell_type": "code",
   "execution_count": 4,
   "metadata": {},
   "outputs": [
    {
     "name": "stdout",
     "output_type": "stream",
     "text": [
      "the probability that all companies make profit is 0.00099\n",
      "the expected return of company 1 when investing $10,000 is 990.0\n",
      "the probability that no company makes profit is 0.008910000000000001\n",
      "the correct answer is: 0.99901\n",
      "the probability that only company 1 makes profit is 0.099\n"
     ]
    }
   ],
   "source": [
    "# Question3 — You have $10,000 to invest in three companies. \n",
    "# Company 1 yields 99% with a chance of 10%.\n",
    "# Company 2 yields 10% 99% of the time.\n",
    "# Company 3 yields 1000% 1% of the time.\n",
    "# a) What is the probability that all companies make profit?\n",
    "# b) What is the expected return of company 1 when investing $10,000? \n",
    "# c) What is the probability that no company makes profit?\n",
    "# d) What is the probability that only company 1 makes profit?\n",
    "\n",
    "ans1=0.1*0.99*0.01\n",
    "print(f\"the probability that all companies make profit is {ans1}\")\n",
    "\n",
    "ans2=10000*0.99*0.1\n",
    "print(f\"the expected return of company 1 when investing $10,000 is {ans2}\")\n",
    "\n",
    "ans3=0.9*0.01*0.99\n",
    "print(f\"the probability that no company makes profit is {ans3}\")\n",
    "print(f\"the correct answer is: {1 - 0.1 * 0.99 * 0.01}\")\n",
    "ans4=10*0.01*0.99\n",
    "print(f\"the probability that only company 1 makes profit is {ans4}\")\n",
    "\n",
    "\n",
    "\n",
    "\n"
   ]
  },
  {
   "cell_type": "code",
   "execution_count": null,
   "metadata": {},
   "outputs": [],
   "source": [
    "# 4. Question — A new virus is spreading! \n",
    "# Already 10,000 people are infected (out of 335,000,000). \n",
    "# Luckily, a new rapid test is available which has a true positive and true negative rate of 99%.\n",
    "# Unfortunately your test is positive now! \n",
    "# What is the probability that you are infected?"
   ]
  }
 ],
 "metadata": {
  "kernelspec": {
   "display_name": ".venv",
   "language": "python",
   "name": "python3"
  },
  "language_info": {
   "codemirror_mode": {
    "name": "ipython",
    "version": 3
   },
   "file_extension": ".py",
   "mimetype": "text/x-python",
   "name": "python",
   "nbconvert_exporter": "python",
   "pygments_lexer": "ipython3",
   "version": "3.10.11"
  }
 },
 "nbformat": 4,
 "nbformat_minor": 2
}
