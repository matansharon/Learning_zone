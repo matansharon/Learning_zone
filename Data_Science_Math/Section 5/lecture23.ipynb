{
 "cells": [
  {
   "cell_type": "markdown",
   "metadata": {},
   "source": [
    "# Probability: Multiplication Rule\n",
    "\n",
    "## Introduction\n",
    "\n",
    "Previously, we discussed the addition rule for probability. Now, we'll explore the multiplication rule, which applies to both independent and dependent events. This rule helps us determine the probability of multiple events occurring together.\n",
    "\n",
    "## Multiplication Rule\n",
    "\n",
    "The multiplication rule states that the probability of events A and B both occurring is the product of the probability of A occurring and the probability of B occurring. This rule can be expressed in two ways:\n",
    "\n",
    "1. Using intersection notation: \\(P(A \\cap B)\\)\n",
    "2. Using the word \"and\": \\(P(A \\text{ and } B)\\)\n",
    "\n",
    "These expressions represent the probability of both A and B happening, illustrating the same concept in different formats.\n",
    "\n",
    "### Independent Events\n",
    "\n",
    "Independent events are events whose outcomes do not affect each other, such as flipping a coin twice. The probability of both events occurring (joint occurrence) is found by multiplying their individual probabilities. For example, the probability of flipping tails twice in a row is \\(1/2 \\times 1/2 = 1/4\\), since each flip is independent and has a 50% chance of resulting in tails.\n",
    "\n",
    "### Dependent Events\n",
    "\n",
    "Dependent events affect each other's outcomes. For such events, the multiplication rule adjusts to include the conditional probability of the second event given the first. This is represented as \\(P(B|A)\\), meaning the probability of B happening given that A has already occurred. An example is drawing cards from a deck without replacement; the outcome of the second draw depends on the first.\n",
    "\n",
    "## Examples\n",
    "\n",
    "1. **Coin Flips**: Flipping a coin twice and wanting both to be tails is an independent event scenario. The probability is \\(1/4\\) or 25%.\n",
    "\n",
    "2. **Defective Parts**: If a factory's defect rate is 2%, the probability of picking three defective parts in a row (independently) is \\(0.02 \\times 0.02 \\times 0.02 = 8/1,000,000\\) or 1 in 125,000.\n",
    "\n",
    "3. **Card Drawing**: Drawing kings from a deck without replacement is dependent. The probability of drawing two kings in a row is calculated using the adjusted probability after the first draw, resulting in a \\(1/221\\) chance.\n",
    "\n",
    "## Independence vs. Dependence\n",
    "\n",
    "To determine if events are independent or dependent, compare \\(P(B)\\) and \\(P(B|A)\\). If they are equal, the events are independent, indicating that the occurrence of A does not affect the probability of B. This method helps confirm the relationship between events, ensuring accurate probability calculations.\n",
    "\n",
    "## Conclusion\n",
    "\n",
    "The multiplication rule is crucial for calculating the probabilities of multiple events occurring, whether independently or dependently. Understanding whether events affect each other allows for the correct application of the rule, enabling accurate predictions of joint occurrences.\n"
   ]
  },
  {
   "cell_type": "code",
   "execution_count": 1,
   "metadata": {},
   "outputs": [
    {
     "name": "stdout",
     "output_type": "stream",
     "text": [
      "Independent Events (Coin Flips):\n",
      "Probability of flipping tails twice in a row: 0.25\n",
      "\n",
      "Dependent Events (Drawing Cards):\n",
      "Probability of drawing a king and then another king without replacement: 0.004524886877828055\n"
     ]
    }
   ],
   "source": [
    "# Import the necessary library\n",
    "import itertools\n",
    "\n",
    "# Independent Events Example: Coin Flips\n",
    "def independent_events_probability():\n",
    "    # Probability of flipping tails twice in a row\n",
    "    probability_tail_first_flip = 1/2\n",
    "    probability_tail_second_flip = 1/2\n",
    "    joint_probability_tails = probability_tail_first_flip * probability_tail_second_flip\n",
    "    print(f\"Probability of flipping tails twice in a row: {joint_probability_tails}\")\n",
    "\n",
    "# Dependent Events Example: Drawing Cards\n",
    "def dependent_events_probability():\n",
    "    # Total number of kings in a deck and total cards\n",
    "    total_kings = 4\n",
    "    total_cards = 52\n",
    "    # Probability of drawing a king first\n",
    "    probability_king_first_draw = total_kings / total_cards\n",
    "    # Adjusting total for the second draw\n",
    "    total_kings -= 1\n",
    "    total_cards -= 1\n",
    "    # Probability of drawing a king on the second draw after drawing a king on the first\n",
    "    probability_king_second_draw = total_kings / total_cards\n",
    "    # Calculating joint probability\n",
    "    joint_probability_kings = probability_king_first_draw * probability_king_second_draw\n",
    "    print(f\"Probability of drawing a king and then another king without replacement: {joint_probability_kings}\")\n",
    "\n",
    "# Demonstrating the multiplication rule for independent and dependent events\n",
    "if __name__ == \"__main__\":\n",
    "    print(\"Independent Events (Coin Flips):\")\n",
    "    independent_events_probability()\n",
    "    print(\"\\nDependent Events (Drawing Cards):\")\n",
    "    dependent_events_probability()\n"
   ]
  }
 ],
 "metadata": {
  "kernelspec": {
   "display_name": ".venv_pytorch",
   "language": "python",
   "name": "python3"
  },
  "language_info": {
   "codemirror_mode": {
    "name": "ipython",
    "version": 3
   },
   "file_extension": ".py",
   "mimetype": "text/x-python",
   "name": "python",
   "nbconvert_exporter": "python",
   "pygments_lexer": "ipython3",
   "version": "3.10.11"
  }
 },
 "nbformat": 4,
 "nbformat_minor": 2
}
