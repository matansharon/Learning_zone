{
 "cells": [
  {
   "cell_type": "markdown",
   "metadata": {},
   "source": [
    "# Bayes Theorem in Probability\n",
    "\n",
    "Bayes Theorem is crucial in understanding how to calculate the probability of an event, given that another event has already occurred. It essentially allows us to reverse-engineer probabilities when we know certain conditional probabilities and the overall likelihood of different events.\n",
    "\n",
    "## Theorem Definition\n",
    "\n",
    "Bayes Theorem can be stated as follows: \n",
    "\n",
    "The probability of event A happening given that event B has already occurred is calculated as the probability of B given A, multiplied by the probability of A, all divided by the probability of B.\n",
    "\n",
    "This can be expressed mathematically as:\n",
    "\n",
    "\\[ P(A|B) = \\frac{P(B|A) \\times P(A)}{P(B)} \\]\n",
    "\n",
    "where:\n",
    "- \\(P(A|B)\\) is the probability of event A given event B has occurred,\n",
    "- \\(P(B|A)\\) is the probability of event B given event A has occurred,\n",
    "- \\(P(A)\\) is the probability of event A, and\n",
    "- \\(P(B)\\) is the probability of event B.\n",
    "\n",
    "## Practical Example: Defective Parts from Two Assembly Lines\n",
    "\n",
    "Consider two assembly lines with known defective rates:\n",
    "- Line 1: 3% defective rate\n",
    "- Line 2: 1% defective rate\n",
    "\n",
    "Using Bayes Theorem, we can determine the probability that a defective part came from either line 1 or line 2.\n",
    "\n",
    "### Steps to Apply Bayes Theorem\n",
    "\n",
    "1. **Define Events A and B:**\n",
    "   - Event A: The part comes from line 1.\n",
    "   - Event B: The part is defective.\n",
    "\n",
    "2. **Calculate Necessary Probabilities:**\n",
    "   - \\(P(A) = 0.5\\) (assuming equal output from both lines)\n",
    "   - \\(P(B|A) = 0.03\\) (given defective rate for line 1)\n",
    "   - \\(P(B) = P(A \\text{ and } B) + P(\\text{Not } A \\text{ and } B) = \\frac{3}{200} + \\frac{1}{200} = \\frac{1}{50}\\)\n",
    "\n",
    "3. **Apply Bayes Theorem:**\n",
    "   - \\(P(A|B) = \\frac{P(B|A) \\times P(A)}{P(B)} = \\frac{0.03 \\times 0.5}{1/50} = 75%\\)\n",
    "\n",
    "Therefore, if we identify a part as defective, there's a 75% chance it came from line 1, and by complement, a 25% chance it came from line 2.\n",
    "\n",
    "## Visualizing with a Tree Diagram\n",
    "\n",
    "A tree diagram can also be used to visualize the process of determining probabilities with Bayes Theorem. It breaks down the probabilities of choosing each line and the subsequent chance of getting a defective part, offering a clear path to understanding the calculation process and reinforcing the 75% chance of a defective part coming from line 1 when a defective part is identified.\n",
    "\n",
    "## Conclusion\n",
    "\n",
    "Bayes Theorem provides a powerful tool for calculating the likelihood of past events based on current knowledge. Through the example of defective parts from two assembly lines, we've seen how to apply Bayes Theorem to real-world scenarios, offering insights into probability and decision-making processes.\n"
   ]
  },
  {
   "cell_type": "code",
   "execution_count": 1,
   "metadata": {},
   "outputs": [
    {
     "name": "stdout",
     "output_type": "stream",
     "text": [
      "Probability that a defective part came from Line 1: 75.00%\n"
     ]
    }
   ],
   "source": [
    "# Define the probabilities\n",
    "P_A = 0.5  # Probability of choosing a part from Line 1\n",
    "P_B_given_A = 0.03  # Probability of a part being defective given it came from Line 1\n",
    "P_B_given_not_A = 0.01  # Probability of a part being defective given it came from Line 2\n",
    "P_not_A = 0.5  # Probability of choosing a part from Line 2 (not Line 1)\n",
    "\n",
    "# Calculate P(B), the total probability of getting a defective part\n",
    "P_B = (P_B_given_A * P_A) + (P_B_given_not_A * P_not_A)\n",
    "\n",
    "# Apply Bayes Theorem to calculate P(A|B), the probability of a part coming from Line 1 given it's defective\n",
    "P_A_given_B = (P_B_given_A * P_A) / P_B\n",
    "\n",
    "print(f\"Probability that a defective part came from Line 1: {P_A_given_B * 100:.2f}%\")\n"
   ]
  }
 ],
 "metadata": {
  "kernelspec": {
   "display_name": ".venv_pytorch",
   "language": "python",
   "name": "python3"
  },
  "language_info": {
   "codemirror_mode": {
    "name": "ipython",
    "version": 3
   },
   "file_extension": ".py",
   "mimetype": "text/x-python",
   "name": "python",
   "nbconvert_exporter": "python",
   "pygments_lexer": "ipython3",
   "version": "3.10.11"
  }
 },
 "nbformat": 4,
 "nbformat_minor": 2
}
