{
 "cells": [
  {
   "cell_type": "code",
   "execution_count": 1,
   "metadata": {},
   "outputs": [
    {
     "name": "stdout",
     "output_type": "stream",
     "text": [
      "1\n"
     ]
    }
   ],
   "source": [
    "# You have to solve 5 tasks in parallel and have 5 engineers at your disposal. Each engineer can only work on one task. How many possibilities are there to distribute the tasks?\n",
    "# The order of the tasks is not important. The tasks are independent of each other. The engineers are also indistinguishable from each other.\n",
    "# The answer is 252.\n",
    "# The solution is based on the stars and bars problem.\n",
    "# https://en.wikipedia.org/wiki/Stars_and_bars_(combinatorics)\n",
    "# The general formula for the number of ways to distribute n indistinguishable objects into k distinguishable bins is:\n",
    "# (n+k-1) choose (k-1)\n",
    "# In this case, n = 5 and k = 5.\n",
    "# (5+5-1) choose (5-1) = 9 choose 4 = 126\n",
    "# However, the order of the tasks is not important. The tasks are independent of each other. The engineers are also indistinguishable from each other.\n",
    "# So, we have to divide the result by the number of permutations of the engineers.\n",
    "# 5! = 120  \n",
    "# 126 / 120 = 252\n",
    "# The answer is 252.\n",
    "import math\n",
    "n = 5\n",
    "k = 5\n",
    "result = math.comb(n+k-1, k-1) // math.factorial(k)\n",
    "print(result)\n",
    "\n",
    "#everythig above is not correct \n",
    "#the correct answer is 5!\n",
    "#because every engineer can do every task\n",
    "#so the answer is 5! = 120\n"
   ]
  },
  {
   "cell_type": "code",
   "execution_count": 2,
   "metadata": {},
   "outputs": [
    {
     "data": {
      "text/plain": [
       "263130836933693530167218012160000000"
      ]
     },
     "execution_count": 2,
     "metadata": {},
     "output_type": "execute_result"
    }
   ],
   "source": [
    "#Question — In how many ways can you arrange a card deck of 32 cards?\n",
    "# Answer — 32! = 263130836933693530167218012160000000\n",
    "#correct good job\n",
    "ans=math.factorial(32)\n",
    "ans\n"
   ]
  },
  {
   "cell_type": "code",
   "execution_count": 4,
   "metadata": {},
   "outputs": [
    {
     "data": {
      "text/plain": [
       "20"
      ]
     },
     "execution_count": 4,
     "metadata": {},
     "output_type": "execute_result"
    }
   ],
   "source": [
    "# 3. Question — You want to extend your company with two new locations. \n",
    "# There are 5 possible spots available. \n",
    "# However, due to the current material shortage, \n",
    "# you can only build one office at the time. \n",
    "# How many possibilities exist to build the two offices?\n",
    "\n",
    "ans=math.perm(5,2)\n",
    "ans"
   ]
  },
  {
   "cell_type": "code",
   "execution_count": 7,
   "metadata": {},
   "outputs": [
    {
     "data": {
      "text/plain": [
       "15"
      ]
     },
     "execution_count": 7,
     "metadata": {},
     "output_type": "execute_result"
    }
   ],
   "source": [
    "# Question — You have 6 new features for your website and want to compare them against each other using A/B testing.\n",
    "# How many iterations do you need to run?\n",
    "ans=math.comb(6,2)\n",
    "ans"
   ]
  },
  {
   "cell_type": "code",
   "execution_count": 8,
   "metadata": {},
   "outputs": [
    {
     "name": "stdout",
     "output_type": "stream",
     "text": [
      "The minimum password length required is: 10 characters\n"
     ]
    }
   ],
   "source": [
    "#Question — You want to find a secure password, consisting of the letters [a-z], [A-Z], and digits 0-9. \n",
    "# Imagine a modern computer which can test 1 billion passwords a second. \n",
    "# How many characters should your password have so that the attacker would need at least a year to guess it?\n",
    "\n",
    "# Answer — 62^n > 1 billion * 60 * 60 * 24 * 365\n",
    "import math\n",
    "\n",
    "def calculate_min_password_length():\n",
    "    # Constants\n",
    "    attack_speed_per_second = 10**9  # 1 billion guesses per second\n",
    "    seconds_in_a_year = 365.25 * 24 * 60 * 60  # seconds in a year, accounting for leap years\n",
    "    total_guesses_in_a_year = attack_speed_per_second * seconds_in_a_year\n",
    "    \n",
    "    # Character set size (lowercase + uppercase + digits)\n",
    "    character_set_size = 26 + 26 + 10  # [a-z], [A-Z], [0-9]\n",
    "    \n",
    "    # Calculate minimum password length\n",
    "    # Solve for N in the equation character_set_size^N = total_guesses_in_a_year using logarithm\n",
    "    min_password_length = math.log(total_guesses_in_a_year, character_set_size)\n",
    "    \n",
    "    # Since password length must be a whole number, we round up\n",
    "    min_password_length_rounded = math.ceil(min_password_length)\n",
    "    \n",
    "    return min_password_length_rounded\n",
    "\n",
    "# Calculate and print the minimum password length\n",
    "min_password_length = calculate_min_password_length()\n",
    "print(f\"The minimum password length required is: {min_password_length} characters\")\n"
   ]
  }
 ],
 "metadata": {
  "kernelspec": {
   "display_name": ".venv",
   "language": "python",
   "name": "python3"
  },
  "language_info": {
   "codemirror_mode": {
    "name": "ipython",
    "version": 3
   },
   "file_extension": ".py",
   "mimetype": "text/x-python",
   "name": "python",
   "nbconvert_exporter": "python",
   "pygments_lexer": "ipython3",
   "version": "3.10.11"
  }
 },
 "nbformat": 4,
 "nbformat_minor": 2
}
