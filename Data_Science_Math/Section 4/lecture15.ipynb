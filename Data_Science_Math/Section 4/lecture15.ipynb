{
 "cells": [
  {
   "cell_type": "markdown",
   "metadata": {},
   "source": [
    "# Combinatorics: Factorial, Permutations, and Combinations\n",
    "\n",
    "Welcome to our section on combinatorics, a fascinating area of mathematics that extends far beyond simple counting. Combinatorics is pivotal in solving real-life problems, including those in business and data science, by enabling us to count possible combinations or permutations of objects when the outcomes are not immediately apparent.\n",
    "\n",
    "## Key Concepts\n",
    "\n",
    "### Factorial\n",
    "- The factorial of a non-negative integer `n` is denoted by `n!` and represents the product of all positive integers less than or equal to `n`.\n",
    "- For example, `10! = 10 x 9 x 8 x ... x 1 = 3,628,800`. \n",
    "- Factorials grow rapidly with small increases in `n`, showcasing their power in combinatorial calculations.\n",
    "\n",
    "### Permutations\n",
    "- A permutation refers to an arrangement of objects in a specific order.\n",
    "- The number of permutations of `n` objects is `n!`.\n",
    "- Permutations are crucial when the order of selection matters, exemplified by arranging deliveries or organizing teams where the sequence impacts the outcome.\n",
    "\n",
    "### Combinations\n",
    "- Combinations represent selections of objects where the order does not matter.\n",
    "- The formula for calculating combinations is `n! / (k!(n - k)!)`, where `n` is the total number of items, and `k` is the number of items to select.\n",
    "- This concept applies to scenarios like creating teams from a pool of people or selecting items for a subscription box without regard to the order.\n",
    "\n",
    "## Real-World Applications\n",
    "\n",
    "Combinatorics plays a vital role in addressing complex questions in various domains:\n",
    "\n",
    "- **Subscription Box Services**: Determining the possible combinations of items that can be sent to customers.\n",
    "- **Feedback Surveys**: Calculating the different possible feedback outcomes based on a 1-5 star rating system.\n",
    "- **Online Marketplaces**: Understanding product combinations within budget constraints.\n",
    "- **Food Delivery Services**: Enumerating order combinations from a given menu selection.\n",
    "\n",
    "## Understanding Combinatorics\n",
    "\n",
    "Through exploring factorial, permutations, and combinations, we unlock powerful tools to solve practical business challenges:\n",
    "\n",
    "- Factorials provide the groundwork for understanding how large the scope of possible arrangements or selections can be.\n",
    "- Permutations help us arrange objects in a particular sequence, often vital for logistical planning and organization.\n",
    "- Combinations allow us to understand the variety of selections possible when the arrangement isn't crucial, broadening our approach to grouping and selection problems.\n",
    "\n",
    "In subsequent lectures, we'll dive deeper into each of these concepts, enhancing our ability to apply combinatorial mathematics to real-world scenarios and revealing the extensive possibilities within what might seem like simple counting at first glance.\n"
   ]
  },
  {
   "cell_type": "code",
   "execution_count": 1,
   "metadata": {},
   "outputs": [
    {
     "name": "stdout",
     "output_type": "stream",
     "text": [
      "10! = 3628800\n",
      "Number of ways to arrange 3 items out of 10 = 720\n",
      "Number of ways to select 3 items from a set of 10 = 120\n",
      "Number of combinations for 5 products from 20 = 15504\n"
     ]
    }
   ],
   "source": [
    "import math\n",
    "\n",
    "# Factorial Example\n",
    "# Calculate 10!\n",
    "factorial_10 = math.factorial(10)\n",
    "print(f\"10! = {factorial_10}\")\n",
    "\n",
    "# Permutations Example\n",
    "# Calculate the number of ways to arrange 3 items out of 10\n",
    "permutations_10_3 = math.perm(10, 3)\n",
    "print(f\"Number of ways to arrange 3 items out of 10 = {permutations_10_3}\")\n",
    "\n",
    "# Combinations Example\n",
    "# Calculate the number of ways to select 3 items from a set of 10\n",
    "combinations_10_3 = math.comb(10, 3)\n",
    "print(f\"Number of ways to select 3 items from a set of 10 = {combinations_10_3}\")\n",
    "\n",
    "# Real-World Application Example: Subscription Box Service\n",
    "# Imagine a subscription box service with 20 different products and we want to know how many \n",
    "# combinations of 5 products can be made\n",
    "combinations_20_5 = math.comb(20, 5)\n",
    "print(f\"Number of combinations for 5 products from 20 = {combinations_20_5}\")\n",
    "\n",
    "# Feedback Survey Example\n",
    "# For a survey with 5 questions rated from 1 to 5 stars, calculate the number of possible feedback combinations\n",
    "# This is a more complex problem which might not be directly solvable using basic combinatorics functions\n",
    "# without additional context, so it's mentioned as an example of application.\n"
   ]
  },
  {
   "cell_type": "code",
   "execution_count": 8,
   "metadata": {},
   "outputs": [
    {
     "data": {
      "text/plain": [
       "2.449489742783178"
      ]
     },
     "execution_count": 8,
     "metadata": {},
     "output_type": "execute_result"
    }
   ],
   "source": [
    "math.factorial(3)-math.factorial(2) # 3!-2! = 6-2 = 4\n",
    "#show divide of factorial\n",
    "math.factorial(3)/math.factorial(2) # 3!/2! = 6/2 = 3\n",
    "#show factorial multiply\n",
    "math.factorial(3)*math.factorial(2) # 3!*2! = 6*2 = 12\n",
    "#show factorial power\n",
    "math.factorial(3)**2 # (3!)^2 = 6^2 = 36\n",
    "#show factorial root\n",
    "math.sqrt(math.factorial(3)) # sqrt(3!) = sqrt(6) = 2.449489742783178"
   ]
  }
 ],
 "metadata": {
  "kernelspec": {
   "display_name": ".venv",
   "language": "python",
   "name": "python3"
  },
  "language_info": {
   "codemirror_mode": {
    "name": "ipython",
    "version": 3
   },
   "file_extension": ".py",
   "mimetype": "text/x-python",
   "name": "python",
   "nbconvert_exporter": "python",
   "pygments_lexer": "ipython3",
   "version": "3.10.11"
  }
 },
 "nbformat": 4,
 "nbformat_minor": 2
}
