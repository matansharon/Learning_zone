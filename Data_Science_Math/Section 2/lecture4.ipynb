{
 "cells": [
  {
   "cell_type": "markdown",
   "metadata": {},
   "source": [
    "# Summary: Measures of Central Tendency in Data Sets\n",
    "\n",
    "## Overview\n",
    "This lecture focuses on understanding the measures of the center of a dataset, specifically discussing mean, weighted mean, truncated mean, mode, and median.\n",
    "\n",
    "## Key Concepts\n",
    "\n",
    "### Mean (Arithmetic Mean)\n",
    "- **Calculation**: Sum of all data points divided by the number of data points.\n",
    "- **Population Mean (µ)**: Mean of the entire population.\n",
    "- **Sample Mean (x̄)**: Mean of a sample from the population.\n",
    "- **Interpretation**: Viewed as the balancing point of the data.\n",
    "\n",
    "### Weighted Mean\n",
    "- **Use Case**: When different data points carry different weights (e.g., employee satisfaction scores from departments of different sizes).\n",
    "- **Calculation**: Sum of products of scores and weights divided by the sum of weights.\n",
    "\n",
    "### Truncated Mean\n",
    "- **Use Case**: Data with outliers.\n",
    "- **Calculation**: Mean calculated after removing certain highest and lowest data points (outliers).\n",
    "\n",
    "### Mode\n",
    "- **Definition**: The value that occurs most frequently in a dataset.\n",
    "- **Types**: Unimodal (one mode), Bimodal (two modes), or no mode.\n",
    "\n",
    "### Median\n",
    "- **Calculation**: Middle value of an ordered dataset (or mean of two middle values if dataset size is even).\n",
    "- **Interpretation**: Useful when dataset contains extreme values/outliers.\n",
    "\n",
    "## Choosing the Right Measure\n",
    "- **Depends on**: Data type (continuous, discrete, nominal, ordinal), numeric nature, and context.\n",
    "- **Median vs Mean**: Median is often more representative in datasets with extreme values.\n",
    "- **Applicability**: Not all measures are applicable to all data types (e.g., median not suitable for nominal data).\n",
    "\n",
    "## Conclusion\n",
    "Understanding when to use mean, median, or mode is crucial in data analysis. The choice depends on the dataset's characteristics and the context of the analysis.\n"
   ]
  },
  {
   "cell_type": "code",
   "execution_count": 4,
   "metadata": {},
   "outputs": [
    {
     "name": "stdout",
     "output_type": "stream",
     "text": [
      "[269, 329, 369, 459, 479, 649, 799]\n"
     ]
    }
   ],
   "source": [
    "l=[329,479,459,269,369,799,649]\n",
    "l.sort()\n",
    "print(l)"
   ]
  }
 ],
 "metadata": {
  "kernelspec": {
   "display_name": ".venv",
   "language": "python",
   "name": "python3"
  },
  "language_info": {
   "codemirror_mode": {
    "name": "ipython",
    "version": 3
   },
   "file_extension": ".py",
   "mimetype": "text/x-python",
   "name": "python",
   "nbconvert_exporter": "python",
   "pygments_lexer": "ipython3",
   "version": "3.10.11"
  }
 },
 "nbformat": 4,
 "nbformat_minor": 2
}
