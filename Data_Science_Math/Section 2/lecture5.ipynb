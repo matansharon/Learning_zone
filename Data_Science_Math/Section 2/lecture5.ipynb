{
 "cells": [
  {
   "cell_type": "markdown",
   "metadata": {},
   "source": [
    "# Summary: Measurements of Dispersion\n",
    "\n",
    "## Understanding Dispersion\n",
    "Dispersion measures quantify how data is spread out around the mean, focusing on the distance of data points from the mean value.\n",
    "\n",
    "## Population vs. Sample\n",
    "- **Population (N)**: Entire group (e.g., all students in a school).\n",
    "- **Sample (n)**: Subset of the population, representing a larger group.\n",
    "\n",
    "## Variance\n",
    "- Measures the average of the squared differences from the mean.\n",
    "- **Population Variance (σ²)**: Uses the population mean (µ) and divides by N (total population).\n",
    "- **Sample Variance (S²)**: Uses the sample mean (x̄) and divides by n-1 (sample size minus one).\n",
    "\n",
    "## Why Square the Deviations?\n",
    "- To ensure all deviations are positive (avoiding cancellation of negative values).\n",
    "- To magnify larger deviations, highlighting data spread more effectively.\n",
    "\n",
    "## Standard Deviation\n",
    "- The square root of variance.\n",
    "- **Population Standard Deviation (σ)**: Square root of population variance.\n",
    "- **Sample Standard Deviation (S)**: Square root of sample variance.\n",
    "- Matches the unit of the mean, making it easier to interpret alongside the mean.\n",
    "\n",
    "## Calculating Variance and Standard Deviation: An Example\n",
    "- Data Set: 1, 2, 3, 4, 5\n",
    "- Mean (x̄) = 3\n",
    "- Sample Variance (S²) = 2.5\n",
    "- Sample Standard Deviation (S) ≈ 1.58\n",
    "\n",
    "## Importance of Standard Deviation\n",
    "Standard deviation is preferred over variance as its units match the data, providing a clearer interpretation of the data spread relative to the mean.\n",
    "\n",
    "## Conclusion\n",
    "Variance and standard deviation are crucial in understanding the dispersion of data, offering insights into how data points deviate from the central value (mean).\n"
   ]
  },
  {
   "cell_type": "code",
   "execution_count": 1,
   "metadata": {},
   "outputs": [
    {
     "name": "stdout",
     "output_type": "stream",
     "text": [
      "hello world\n"
     ]
    }
   ],
   "source": [
    "print(\"hello world\")"
   ]
  }
 ],
 "metadata": {
  "kernelspec": {
   "display_name": ".venv",
   "language": "python",
   "name": "python3"
  },
  "language_info": {
   "codemirror_mode": {
    "name": "ipython",
    "version": 3
   },
   "file_extension": ".py",
   "mimetype": "text/x-python",
   "name": "python",
   "nbconvert_exporter": "python",
   "pygments_lexer": "ipython3",
   "version": "3.10.11"
  }
 },
 "nbformat": 4,
 "nbformat_minor": 2
}
