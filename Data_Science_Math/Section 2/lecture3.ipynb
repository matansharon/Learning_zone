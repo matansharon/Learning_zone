{
 "cells": [
  {
   "cell_type": "markdown",
   "metadata": {},
   "source": [
    "# Lecture 3: Data Science in the Real World\n",
    "# Core Data Concepts\n",
    "\n",
    "Welcome to the section on Core Data Concepts, essential for understanding and solving real-world problems using data science. \n",
    "\n",
    "## What is Data?\n",
    "\n",
    "Data comprises collected observations and information, which can be either **structured** or **unstructured**.\n",
    "\n",
    "### Examples of Data\n",
    "\n",
    "- **Penguin Study in Antarctica**: Includes measurements (flipper length, body mass) and categorical information (sex, beak color).\n",
    "\n",
    "### Types of Data\n",
    "\n",
    "- **Continuous vs. Discrete Data**\n",
    "  - *Continuous*: Can take any value within a range (e.g., height, weight).\n",
    "  - *Discrete*: Can only take specific values (e.g., count of something).\n",
    "- **Structured vs. Unstructured Data**\n",
    "  - *Structured*: Organized in a predefined format (e.g., databases).\n",
    "  - *Unstructured*: Free-form data (e.g., videos, texts).\n",
    "- **Nominal vs. Ordinal Data**\n",
    "  - *Nominal*: No natural order (e.g., types of animals).\n",
    "  - *Ordinal*: Has a clear sequence (e.g., class rankings).\n",
    "- **Population vs. Sample Data**\n",
    "  - *Population*: Data from every member of a group.\n",
    "  - *Sample*: Subset of the population, used for practicality.\n",
    "\n",
    "### Importance of Context\n",
    "\n",
    "The context of data usage significantly influences its interpretation and analysis. \n",
    "\n",
    "## Using Data in Data Science\n",
    "\n",
    "- **Understand the Type of Data**: Know whether your data is continuous, discrete, structured, or unstructured.\n",
    "- **Consider the Context**: The usage context dictates data interpretation.\n",
    "- **Know Your Data's Limitations**: Understanding limitations aids in accurate analysis.\n",
    "\n",
    "\n"
   ]
  },
  {
   "cell_type": "markdown",
   "metadata": {},
   "source": [
    "# Lecture4:"
   ]
  }
 ],
 "metadata": {
  "language_info": {
   "name": "python"
  }
 },
 "nbformat": 4,
 "nbformat_minor": 2
}
